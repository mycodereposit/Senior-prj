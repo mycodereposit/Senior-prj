{
 "cells": [
  {
   "cell_type": "code",
   "execution_count": 1,
   "metadata": {},
   "outputs": [],
   "source": [
    "import os\n",
    "import pandas as pd\n",
    "import datetime\n"
   ]
  },
  {
   "cell_type": "code",
   "execution_count": 69,
   "metadata": {},
   "outputs": [
    {
     "name": "stdout",
     "output_type": "stream",
     "text": [
      "importingC:/Users/User/Desktop/VSCpython/senior_prj/source/load507.csv\n",
      "export finished\n"
     ]
    }
   ],
   "source": [
    "folder_path = 'C:/Users/User/Desktop/VSCpython/senior_prj/source/'\n",
    "files = os.listdir(folder_path)\n",
    "new_path = 'C:/Users/User/Desktop/VSCpython/senior_prj/load_newmeter/'\n",
    "old_path = 'C:/Users/User/Desktop/VSCpython/senior_prj/load_oldmeter/'\n",
    "column = ['datetime','timediff(ms)', 'Ia(A)',\n",
    "                          'Ib(A)',\n",
    "                          'Ic(A)',\n",
    "                          'In(A)',\n",
    "                          'Iavg(A)',\n",
    "                          'Va(V)',\n",
    "                          'Vb(V)',\n",
    "                          'Vc(V)',\n",
    "                          'Vavg(V)',\n",
    "                          'Pa(kW)',\n",
    "                          'Pb(kW)',\n",
    "                          'Pc(kW)',\n",
    "                          'Ptot(kW)',\n",
    "                          'VARa(kVAR)',\n",
    "                          'VARb(kVAR)',\n",
    "                          'VARc(kVAR)',\n",
    "                          'VARtot(kVAR)',\n",
    "                          'VAa(V)',\n",
    "                          'VAb(V)',\n",
    "                          'VAc(V)',\n",
    "                          'VAtot(V)',\n",
    "                          'PFa',\n",
    "                          'PFb',\n",
    "                          'PFc',\n",
    "                          'PFtot',\n",
    "                          'DFa',\n",
    "                          'DFb',\n",
    "                          'DFc',\n",
    "                          'DFtot']\n",
    "error_list = []\n",
    "for file in files:\n",
    "    if file.lower().startswith('load_gw') and file.lower().endswith('.csv'):\n",
    "        df = pd.read_csv(folder_path  + file)\n",
    "        print('importing' + folder_path  + file )\n",
    "        df.columns = ['DateTime', 'Energy(Wh)']\n",
    "        \n",
    "    elif file.lower().startswith('load507') and file.lower().endswith('.csv'):\n",
    "        try :\n",
    "            df = pd.read_csv(folder_path  + file,header = None ).dropna(axis = 0)\n",
    "            df1 = pd.DataFrame(columns = column)\n",
    "            print('importing' + folder_path  + file )\n",
    "        \n",
    "            start_value = df.iloc[0,0] \n",
    "            if len(file[4:-4]) == 3 :\n",
    "                date = '2023' + file[-6:-4] + '0' + file[4]\n",
    "            elif len(file[4:-4]) == 4 :\n",
    "                date = '2023' + file[-6:-4] + file[4:6]\n",
    "            \n",
    "            start_date = datetime.datetime(int(date[:4]),int(date[4:6]),int(date[6:8]))\n",
    "            \n",
    "            if len(df.columns) == 30 :\n",
    "                \n",
    "                df.iloc[:,0] = (df.iloc[:,0] - start_value)*1000\n",
    "                df1[column[1:]] = df\n",
    "                df1['datetime'] = df1['timediff(ms)'].apply(lambda x: start_date + datetime.timedelta(milliseconds = x))\n",
    "                df1.to_excel(new_path + 'load_newmeter_' + date + '.xlsx',index = False)\n",
    "                print('export finished')\n",
    "            if len(df.columns) == 12 :\n",
    "                df.iloc[:,0] = (df.iloc[:,0] - start_value)*1000\n",
    "                \n",
    "                \n",
    "                \n",
    "                df1[['timediff(ms)','Ia(A)','Ib(A)','Ic(A)','Pa(kW)','Pb(kW)','Pc(kW)','Ptot(kW)','VAa(V)','VAb(V)','VAc(V)','VAtot(V)']] = df\n",
    "                df1[['Pa(kW)','Pb(kW)','Pc(kW)','Ptot(kW)']] = df1[['Pa(kW)','Pb(kW)','Pc(kW)','Ptot(kW)']]/1000\n",
    "                df1['datetime'] = df1['timediff(ms)'].apply(lambda x: start_date + datetime.timedelta(milliseconds = x))\n",
    "                df1.to_excel(old_path + 'load_oldmeter_' + date + '.xlsx',index = False)\n",
    "                print('export finished')\n",
    "        except Exception as e :\n",
    "                error_list.append( [file,str(e)])\n",
    "if error_list != [] :\n",
    "    error_list = pd.DataFrame(error_list)\n",
    "    error_list.to_excel('error_log.xlsx',index = False)\n",
    "\n",
    "            \n"
   ]
  },
  {
   "cell_type": "code",
   "execution_count": 2,
   "metadata": {},
   "outputs": [],
   "source": [
    "column = ['datetime','timediff(ms)', 'Ia(A)',\n",
    "                          'Ib(A)',\n",
    "                          'Ic(A)',\n",
    "                          'In(A)',\n",
    "                          'Iavg(A)',\n",
    "                          'Va(V)',\n",
    "                          'Vb(V)',\n",
    "                          'Vc(V)',\n",
    "                          'Vavg(V)',\n",
    "                          'Pa(kW)',\n",
    "                          'Pb(kW)',\n",
    "                          'Pc(kW)',\n",
    "                          'Ptot(kW)',\n",
    "                          'VARa(kVAR)',\n",
    "                          'VARb(kVAR)',\n",
    "                          'VARc(kVAR)',\n",
    "                          'VARtot(kVAR)',\n",
    "                          'VAa(V)',\n",
    "                          'VAb(V)',\n",
    "                          'VAc(V)',\n",
    "                          'VAtot(V)',\n",
    "                          'PFa',\n",
    "                          'PFb',\n",
    "                          'PFc',\n",
    "                          'PFtot',\n",
    "                          'DFa',\n",
    "                          'DFb',\n",
    "                          'DFc',\n",
    "                          'DFtot']"
   ]
  },
  {
   "cell_type": "code",
   "execution_count": 22,
   "metadata": {},
   "outputs": [
    {
     "name": "stdout",
     "output_type": "stream",
     "text": [
      "importingC:/Users/User/Desktop/VSCpython/senior_prj/load_reformat/load_newmeter_20230508.xlsx\n",
      "a\n",
      "b\n"
     ]
    },
    {
     "name": "stderr",
     "output_type": "stream",
     "text": [
      "C:\\Users\\User\\AppData\\Local\\Temp\\ipykernel_16880\\853392660.py:11: SettingWithCopyWarning: \n",
      "A value is trying to be set on a copy of a slice from a DataFrame\n",
      "\n",
      "See the caveats in the documentation: https://pandas.pydata.org/pandas-docs/stable/user_guide/indexing.html#returning-a-view-versus-a-copy\n",
      "  df['period'][:-1] = pd.Series( df['timediff(ms)']).diff(periods= 1 )[1:]\n"
     ]
    },
    {
     "name": "stdout",
     "output_type": "stream",
     "text": [
      "export finished\n",
      "importingC:/Users/User/Desktop/VSCpython/senior_prj/load_reformat/load_newmeter_20230509.xlsx\n",
      "a\n",
      "b\n"
     ]
    },
    {
     "name": "stderr",
     "output_type": "stream",
     "text": [
      "C:\\Users\\User\\AppData\\Local\\Temp\\ipykernel_16880\\853392660.py:11: SettingWithCopyWarning: \n",
      "A value is trying to be set on a copy of a slice from a DataFrame\n",
      "\n",
      "See the caveats in the documentation: https://pandas.pydata.org/pandas-docs/stable/user_guide/indexing.html#returning-a-view-versus-a-copy\n",
      "  df['period'][:-1] = pd.Series( df['timediff(ms)']).diff(periods= 1 )[1:]\n"
     ]
    },
    {
     "name": "stdout",
     "output_type": "stream",
     "text": [
      "export finished\n",
      "importingC:/Users/User/Desktop/VSCpython/senior_prj/load_reformat/load_newmeter_20230511.xlsx\n",
      "a\n",
      "b\n"
     ]
    },
    {
     "name": "stderr",
     "output_type": "stream",
     "text": [
      "C:\\Users\\User\\AppData\\Local\\Temp\\ipykernel_16880\\853392660.py:11: SettingWithCopyWarning: \n",
      "A value is trying to be set on a copy of a slice from a DataFrame\n",
      "\n",
      "See the caveats in the documentation: https://pandas.pydata.org/pandas-docs/stable/user_guide/indexing.html#returning-a-view-versus-a-copy\n",
      "  df['period'][:-1] = pd.Series( df['timediff(ms)']).diff(periods= 1 )[1:]\n"
     ]
    },
    {
     "name": "stdout",
     "output_type": "stream",
     "text": [
      "export finished\n",
      "importingC:/Users/User/Desktop/VSCpython/senior_prj/load_reformat/load_newmeter_20230512.xlsx\n",
      "a\n",
      "b\n"
     ]
    },
    {
     "name": "stderr",
     "output_type": "stream",
     "text": [
      "C:\\Users\\User\\AppData\\Local\\Temp\\ipykernel_16880\\853392660.py:11: SettingWithCopyWarning: \n",
      "A value is trying to be set on a copy of a slice from a DataFrame\n",
      "\n",
      "See the caveats in the documentation: https://pandas.pydata.org/pandas-docs/stable/user_guide/indexing.html#returning-a-view-versus-a-copy\n",
      "  df['period'][:-1] = pd.Series( df['timediff(ms)']).diff(periods= 1 )[1:]\n"
     ]
    },
    {
     "name": "stdout",
     "output_type": "stream",
     "text": [
      "export finished\n",
      "importingC:/Users/User/Desktop/VSCpython/senior_prj/load_reformat/load_newmeter_20230513.xlsx\n",
      "a\n",
      "b\n"
     ]
    },
    {
     "name": "stderr",
     "output_type": "stream",
     "text": [
      "C:\\Users\\User\\AppData\\Local\\Temp\\ipykernel_16880\\853392660.py:11: SettingWithCopyWarning: \n",
      "A value is trying to be set on a copy of a slice from a DataFrame\n",
      "\n",
      "See the caveats in the documentation: https://pandas.pydata.org/pandas-docs/stable/user_guide/indexing.html#returning-a-view-versus-a-copy\n",
      "  df['period'][:-1] = pd.Series( df['timediff(ms)']).diff(periods= 1 )[1:]\n"
     ]
    },
    {
     "name": "stdout",
     "output_type": "stream",
     "text": [
      "export finished\n",
      "importingC:/Users/User/Desktop/VSCpython/senior_prj/load_reformat/load_newmeter_20230514.xlsx\n",
      "a\n",
      "b\n"
     ]
    },
    {
     "name": "stderr",
     "output_type": "stream",
     "text": [
      "C:\\Users\\User\\AppData\\Local\\Temp\\ipykernel_16880\\853392660.py:11: SettingWithCopyWarning: \n",
      "A value is trying to be set on a copy of a slice from a DataFrame\n",
      "\n",
      "See the caveats in the documentation: https://pandas.pydata.org/pandas-docs/stable/user_guide/indexing.html#returning-a-view-versus-a-copy\n",
      "  df['period'][:-1] = pd.Series( df['timediff(ms)']).diff(periods= 1 )[1:]\n"
     ]
    },
    {
     "name": "stdout",
     "output_type": "stream",
     "text": [
      "export finished\n",
      "importingC:/Users/User/Desktop/VSCpython/senior_prj/load_reformat/load_newmeter_20230515.xlsx\n",
      "a\n",
      "b\n"
     ]
    },
    {
     "name": "stderr",
     "output_type": "stream",
     "text": [
      "C:\\Users\\User\\AppData\\Local\\Temp\\ipykernel_16880\\853392660.py:11: SettingWithCopyWarning: \n",
      "A value is trying to be set on a copy of a slice from a DataFrame\n",
      "\n",
      "See the caveats in the documentation: https://pandas.pydata.org/pandas-docs/stable/user_guide/indexing.html#returning-a-view-versus-a-copy\n",
      "  df['period'][:-1] = pd.Series( df['timediff(ms)']).diff(periods= 1 )[1:]\n"
     ]
    },
    {
     "name": "stdout",
     "output_type": "stream",
     "text": [
      "export finished\n",
      "importingC:/Users/User/Desktop/VSCpython/senior_prj/load_reformat/load_newmeter_20230516.xlsx\n",
      "a\n",
      "b\n"
     ]
    },
    {
     "name": "stderr",
     "output_type": "stream",
     "text": [
      "C:\\Users\\User\\AppData\\Local\\Temp\\ipykernel_16880\\853392660.py:11: SettingWithCopyWarning: \n",
      "A value is trying to be set on a copy of a slice from a DataFrame\n",
      "\n",
      "See the caveats in the documentation: https://pandas.pydata.org/pandas-docs/stable/user_guide/indexing.html#returning-a-view-versus-a-copy\n",
      "  df['period'][:-1] = pd.Series( df['timediff(ms)']).diff(periods= 1 )[1:]\n"
     ]
    },
    {
     "name": "stdout",
     "output_type": "stream",
     "text": [
      "export finished\n",
      "importingC:/Users/User/Desktop/VSCpython/senior_prj/load_reformat/load_newmeter_20230517.xlsx\n",
      "a\n",
      "b\n"
     ]
    },
    {
     "name": "stderr",
     "output_type": "stream",
     "text": [
      "C:\\Users\\User\\AppData\\Local\\Temp\\ipykernel_16880\\853392660.py:11: SettingWithCopyWarning: \n",
      "A value is trying to be set on a copy of a slice from a DataFrame\n",
      "\n",
      "See the caveats in the documentation: https://pandas.pydata.org/pandas-docs/stable/user_guide/indexing.html#returning-a-view-versus-a-copy\n",
      "  df['period'][:-1] = pd.Series( df['timediff(ms)']).diff(periods= 1 )[1:]\n"
     ]
    },
    {
     "name": "stdout",
     "output_type": "stream",
     "text": [
      "export finished\n",
      "importingC:/Users/User/Desktop/VSCpython/senior_prj/load_reformat/load_newmeter_20230518.xlsx\n",
      "a\n",
      "b\n"
     ]
    },
    {
     "name": "stderr",
     "output_type": "stream",
     "text": [
      "C:\\Users\\User\\AppData\\Local\\Temp\\ipykernel_16880\\853392660.py:11: SettingWithCopyWarning: \n",
      "A value is trying to be set on a copy of a slice from a DataFrame\n",
      "\n",
      "See the caveats in the documentation: https://pandas.pydata.org/pandas-docs/stable/user_guide/indexing.html#returning-a-view-versus-a-copy\n",
      "  df['period'][:-1] = pd.Series( df['timediff(ms)']).diff(periods= 1 )[1:]\n"
     ]
    },
    {
     "name": "stdout",
     "output_type": "stream",
     "text": [
      "export finished\n",
      "importingC:/Users/User/Desktop/VSCpython/senior_prj/load_reformat/load_newmeter_20230519.xlsx\n",
      "a\n",
      "b\n"
     ]
    },
    {
     "name": "stderr",
     "output_type": "stream",
     "text": [
      "C:\\Users\\User\\AppData\\Local\\Temp\\ipykernel_16880\\853392660.py:11: SettingWithCopyWarning: \n",
      "A value is trying to be set on a copy of a slice from a DataFrame\n",
      "\n",
      "See the caveats in the documentation: https://pandas.pydata.org/pandas-docs/stable/user_guide/indexing.html#returning-a-view-versus-a-copy\n",
      "  df['period'][:-1] = pd.Series( df['timediff(ms)']).diff(periods= 1 )[1:]\n"
     ]
    },
    {
     "name": "stdout",
     "output_type": "stream",
     "text": [
      "export finished\n",
      "importingC:/Users/User/Desktop/VSCpython/senior_prj/load_reformat/load_newmeter_20230520.xlsx\n",
      "a\n",
      "b\n"
     ]
    },
    {
     "name": "stderr",
     "output_type": "stream",
     "text": [
      "C:\\Users\\User\\AppData\\Local\\Temp\\ipykernel_16880\\853392660.py:11: SettingWithCopyWarning: \n",
      "A value is trying to be set on a copy of a slice from a DataFrame\n",
      "\n",
      "See the caveats in the documentation: https://pandas.pydata.org/pandas-docs/stable/user_guide/indexing.html#returning-a-view-versus-a-copy\n",
      "  df['period'][:-1] = pd.Series( df['timediff(ms)']).diff(periods= 1 )[1:]\n"
     ]
    },
    {
     "name": "stdout",
     "output_type": "stream",
     "text": [
      "export finished\n",
      "importingC:/Users/User/Desktop/VSCpython/senior_prj/load_reformat/load_newmeter_20230521.xlsx\n",
      "a\n",
      "b\n"
     ]
    },
    {
     "name": "stderr",
     "output_type": "stream",
     "text": [
      "C:\\Users\\User\\AppData\\Local\\Temp\\ipykernel_16880\\853392660.py:11: SettingWithCopyWarning: \n",
      "A value is trying to be set on a copy of a slice from a DataFrame\n",
      "\n",
      "See the caveats in the documentation: https://pandas.pydata.org/pandas-docs/stable/user_guide/indexing.html#returning-a-view-versus-a-copy\n",
      "  df['period'][:-1] = pd.Series( df['timediff(ms)']).diff(periods= 1 )[1:]\n"
     ]
    },
    {
     "name": "stdout",
     "output_type": "stream",
     "text": [
      "export finished\n",
      "importingC:/Users/User/Desktop/VSCpython/senior_prj/load_reformat/load_newmeter_20230522.xlsx\n",
      "a\n",
      "b\n"
     ]
    },
    {
     "name": "stderr",
     "output_type": "stream",
     "text": [
      "C:\\Users\\User\\AppData\\Local\\Temp\\ipykernel_16880\\853392660.py:11: SettingWithCopyWarning: \n",
      "A value is trying to be set on a copy of a slice from a DataFrame\n",
      "\n",
      "See the caveats in the documentation: https://pandas.pydata.org/pandas-docs/stable/user_guide/indexing.html#returning-a-view-versus-a-copy\n",
      "  df['period'][:-1] = pd.Series( df['timediff(ms)']).diff(periods= 1 )[1:]\n"
     ]
    },
    {
     "name": "stdout",
     "output_type": "stream",
     "text": [
      "export finished\n",
      "importingC:/Users/User/Desktop/VSCpython/senior_prj/load_reformat/load_newmeter_20230523.xlsx\n",
      "a\n",
      "b\n"
     ]
    },
    {
     "name": "stderr",
     "output_type": "stream",
     "text": [
      "C:\\Users\\User\\AppData\\Local\\Temp\\ipykernel_16880\\853392660.py:11: SettingWithCopyWarning: \n",
      "A value is trying to be set on a copy of a slice from a DataFrame\n",
      "\n",
      "See the caveats in the documentation: https://pandas.pydata.org/pandas-docs/stable/user_guide/indexing.html#returning-a-view-versus-a-copy\n",
      "  df['period'][:-1] = pd.Series( df['timediff(ms)']).diff(periods= 1 )[1:]\n"
     ]
    },
    {
     "name": "stdout",
     "output_type": "stream",
     "text": [
      "export finished\n",
      "importingC:/Users/User/Desktop/VSCpython/senior_prj/load_reformat/load_newmeter_20230524.xlsx\n",
      "a\n",
      "b\n"
     ]
    },
    {
     "name": "stderr",
     "output_type": "stream",
     "text": [
      "C:\\Users\\User\\AppData\\Local\\Temp\\ipykernel_16880\\853392660.py:11: SettingWithCopyWarning: \n",
      "A value is trying to be set on a copy of a slice from a DataFrame\n",
      "\n",
      "See the caveats in the documentation: https://pandas.pydata.org/pandas-docs/stable/user_guide/indexing.html#returning-a-view-versus-a-copy\n",
      "  df['period'][:-1] = pd.Series( df['timediff(ms)']).diff(periods= 1 )[1:]\n"
     ]
    },
    {
     "name": "stdout",
     "output_type": "stream",
     "text": [
      "export finished\n",
      "importingC:/Users/User/Desktop/VSCpython/senior_prj/load_reformat/load_newmeter_20230526.xlsx\n",
      "a\n",
      "b\n"
     ]
    },
    {
     "name": "stderr",
     "output_type": "stream",
     "text": [
      "C:\\Users\\User\\AppData\\Local\\Temp\\ipykernel_16880\\853392660.py:11: SettingWithCopyWarning: \n",
      "A value is trying to be set on a copy of a slice from a DataFrame\n",
      "\n",
      "See the caveats in the documentation: https://pandas.pydata.org/pandas-docs/stable/user_guide/indexing.html#returning-a-view-versus-a-copy\n",
      "  df['period'][:-1] = pd.Series( df['timediff(ms)']).diff(periods= 1 )[1:]\n"
     ]
    },
    {
     "name": "stdout",
     "output_type": "stream",
     "text": [
      "export finished\n",
      "importingC:/Users/User/Desktop/VSCpython/senior_prj/load_reformat/load_newmeter_20230527.xlsx\n",
      "a\n",
      "b\n"
     ]
    },
    {
     "name": "stderr",
     "output_type": "stream",
     "text": [
      "C:\\Users\\User\\AppData\\Local\\Temp\\ipykernel_16880\\853392660.py:11: SettingWithCopyWarning: \n",
      "A value is trying to be set on a copy of a slice from a DataFrame\n",
      "\n",
      "See the caveats in the documentation: https://pandas.pydata.org/pandas-docs/stable/user_guide/indexing.html#returning-a-view-versus-a-copy\n",
      "  df['period'][:-1] = pd.Series( df['timediff(ms)']).diff(periods= 1 )[1:]\n"
     ]
    },
    {
     "name": "stdout",
     "output_type": "stream",
     "text": [
      "export finished\n",
      "importingC:/Users/User/Desktop/VSCpython/senior_prj/load_reformat/load_newmeter_20230528.xlsx\n",
      "a\n",
      "b\n"
     ]
    },
    {
     "name": "stderr",
     "output_type": "stream",
     "text": [
      "C:\\Users\\User\\AppData\\Local\\Temp\\ipykernel_16880\\853392660.py:11: SettingWithCopyWarning: \n",
      "A value is trying to be set on a copy of a slice from a DataFrame\n",
      "\n",
      "See the caveats in the documentation: https://pandas.pydata.org/pandas-docs/stable/user_guide/indexing.html#returning-a-view-versus-a-copy\n",
      "  df['period'][:-1] = pd.Series( df['timediff(ms)']).diff(periods= 1 )[1:]\n"
     ]
    },
    {
     "name": "stdout",
     "output_type": "stream",
     "text": [
      "export finished\n",
      "importingC:/Users/User/Desktop/VSCpython/senior_prj/load_reformat/load_newmeter_20230529.xlsx\n",
      "a\n",
      "b\n"
     ]
    },
    {
     "name": "stderr",
     "output_type": "stream",
     "text": [
      "C:\\Users\\User\\AppData\\Local\\Temp\\ipykernel_16880\\853392660.py:11: SettingWithCopyWarning: \n",
      "A value is trying to be set on a copy of a slice from a DataFrame\n",
      "\n",
      "See the caveats in the documentation: https://pandas.pydata.org/pandas-docs/stable/user_guide/indexing.html#returning-a-view-versus-a-copy\n",
      "  df['period'][:-1] = pd.Series( df['timediff(ms)']).diff(periods= 1 )[1:]\n"
     ]
    },
    {
     "name": "stdout",
     "output_type": "stream",
     "text": [
      "export finished\n",
      "importingC:/Users/User/Desktop/VSCpython/senior_prj/load_reformat/load_newmeter_20230530.xlsx\n",
      "a\n",
      "b\n"
     ]
    },
    {
     "name": "stderr",
     "output_type": "stream",
     "text": [
      "C:\\Users\\User\\AppData\\Local\\Temp\\ipykernel_16880\\853392660.py:11: SettingWithCopyWarning: \n",
      "A value is trying to be set on a copy of a slice from a DataFrame\n",
      "\n",
      "See the caveats in the documentation: https://pandas.pydata.org/pandas-docs/stable/user_guide/indexing.html#returning-a-view-versus-a-copy\n",
      "  df['period'][:-1] = pd.Series( df['timediff(ms)']).diff(periods= 1 )[1:]\n"
     ]
    },
    {
     "name": "stdout",
     "output_type": "stream",
     "text": [
      "export finished\n",
      "importingC:/Users/User/Desktop/VSCpython/senior_prj/load_reformat/load_newmeter_20230531.xlsx\n",
      "a\n",
      "b\n"
     ]
    },
    {
     "name": "stderr",
     "output_type": "stream",
     "text": [
      "C:\\Users\\User\\AppData\\Local\\Temp\\ipykernel_16880\\853392660.py:11: SettingWithCopyWarning: \n",
      "A value is trying to be set on a copy of a slice from a DataFrame\n",
      "\n",
      "See the caveats in the documentation: https://pandas.pydata.org/pandas-docs/stable/user_guide/indexing.html#returning-a-view-versus-a-copy\n",
      "  df['period'][:-1] = pd.Series( df['timediff(ms)']).diff(periods= 1 )[1:]\n"
     ]
    },
    {
     "name": "stdout",
     "output_type": "stream",
     "text": [
      "export finished\n",
      "importingC:/Users/User/Desktop/VSCpython/senior_prj/load_reformat/load_newmeter_20230601.xlsx\n",
      "a\n",
      "b\n"
     ]
    },
    {
     "name": "stderr",
     "output_type": "stream",
     "text": [
      "C:\\Users\\User\\AppData\\Local\\Temp\\ipykernel_16880\\853392660.py:11: SettingWithCopyWarning: \n",
      "A value is trying to be set on a copy of a slice from a DataFrame\n",
      "\n",
      "See the caveats in the documentation: https://pandas.pydata.org/pandas-docs/stable/user_guide/indexing.html#returning-a-view-versus-a-copy\n",
      "  df['period'][:-1] = pd.Series( df['timediff(ms)']).diff(periods= 1 )[1:]\n"
     ]
    },
    {
     "name": "stdout",
     "output_type": "stream",
     "text": [
      "export finished\n",
      "importingC:/Users/User/Desktop/VSCpython/senior_prj/load_reformat/load_newmeter_20230602.xlsx\n",
      "a\n",
      "b\n"
     ]
    },
    {
     "name": "stderr",
     "output_type": "stream",
     "text": [
      "C:\\Users\\User\\AppData\\Local\\Temp\\ipykernel_16880\\853392660.py:11: SettingWithCopyWarning: \n",
      "A value is trying to be set on a copy of a slice from a DataFrame\n",
      "\n",
      "See the caveats in the documentation: https://pandas.pydata.org/pandas-docs/stable/user_guide/indexing.html#returning-a-view-versus-a-copy\n",
      "  df['period'][:-1] = pd.Series( df['timediff(ms)']).diff(periods= 1 )[1:]\n"
     ]
    },
    {
     "name": "stdout",
     "output_type": "stream",
     "text": [
      "export finished\n",
      "importingC:/Users/User/Desktop/VSCpython/senior_prj/load_reformat/load_newmeter_20230603.xlsx\n",
      "a\n",
      "b\n"
     ]
    },
    {
     "name": "stderr",
     "output_type": "stream",
     "text": [
      "C:\\Users\\User\\AppData\\Local\\Temp\\ipykernel_16880\\853392660.py:11: SettingWithCopyWarning: \n",
      "A value is trying to be set on a copy of a slice from a DataFrame\n",
      "\n",
      "See the caveats in the documentation: https://pandas.pydata.org/pandas-docs/stable/user_guide/indexing.html#returning-a-view-versus-a-copy\n",
      "  df['period'][:-1] = pd.Series( df['timediff(ms)']).diff(periods= 1 )[1:]\n"
     ]
    },
    {
     "name": "stdout",
     "output_type": "stream",
     "text": [
      "export finished\n",
      "importingC:/Users/User/Desktop/VSCpython/senior_prj/load_reformat/load_newmeter_20230604.xlsx\n",
      "a\n",
      "b\n"
     ]
    },
    {
     "name": "stderr",
     "output_type": "stream",
     "text": [
      "C:\\Users\\User\\AppData\\Local\\Temp\\ipykernel_16880\\853392660.py:11: SettingWithCopyWarning: \n",
      "A value is trying to be set on a copy of a slice from a DataFrame\n",
      "\n",
      "See the caveats in the documentation: https://pandas.pydata.org/pandas-docs/stable/user_guide/indexing.html#returning-a-view-versus-a-copy\n",
      "  df['period'][:-1] = pd.Series( df['timediff(ms)']).diff(periods= 1 )[1:]\n"
     ]
    },
    {
     "name": "stdout",
     "output_type": "stream",
     "text": [
      "export finished\n",
      "importingC:/Users/User/Desktop/VSCpython/senior_prj/load_reformat/load_newmeter_20230605.xlsx\n",
      "a\n",
      "b\n"
     ]
    },
    {
     "name": "stderr",
     "output_type": "stream",
     "text": [
      "C:\\Users\\User\\AppData\\Local\\Temp\\ipykernel_16880\\853392660.py:11: SettingWithCopyWarning: \n",
      "A value is trying to be set on a copy of a slice from a DataFrame\n",
      "\n",
      "See the caveats in the documentation: https://pandas.pydata.org/pandas-docs/stable/user_guide/indexing.html#returning-a-view-versus-a-copy\n",
      "  df['period'][:-1] = pd.Series( df['timediff(ms)']).diff(periods= 1 )[1:]\n"
     ]
    },
    {
     "name": "stdout",
     "output_type": "stream",
     "text": [
      "export finished\n",
      "importingC:/Users/User/Desktop/VSCpython/senior_prj/load_reformat/load_newmeter_20230606.xlsx\n",
      "a\n",
      "b\n"
     ]
    },
    {
     "name": "stderr",
     "output_type": "stream",
     "text": [
      "C:\\Users\\User\\AppData\\Local\\Temp\\ipykernel_16880\\853392660.py:11: SettingWithCopyWarning: \n",
      "A value is trying to be set on a copy of a slice from a DataFrame\n",
      "\n",
      "See the caveats in the documentation: https://pandas.pydata.org/pandas-docs/stable/user_guide/indexing.html#returning-a-view-versus-a-copy\n",
      "  df['period'][:-1] = pd.Series( df['timediff(ms)']).diff(periods= 1 )[1:]\n"
     ]
    },
    {
     "name": "stdout",
     "output_type": "stream",
     "text": [
      "export finished\n",
      "importingC:/Users/User/Desktop/VSCpython/senior_prj/load_reformat/load_newmeter_20230607.xlsx\n",
      "a\n",
      "b\n"
     ]
    },
    {
     "name": "stderr",
     "output_type": "stream",
     "text": [
      "C:\\Users\\User\\AppData\\Local\\Temp\\ipykernel_16880\\853392660.py:11: SettingWithCopyWarning: \n",
      "A value is trying to be set on a copy of a slice from a DataFrame\n",
      "\n",
      "See the caveats in the documentation: https://pandas.pydata.org/pandas-docs/stable/user_guide/indexing.html#returning-a-view-versus-a-copy\n",
      "  df['period'][:-1] = pd.Series( df['timediff(ms)']).diff(periods= 1 )[1:]\n"
     ]
    },
    {
     "name": "stdout",
     "output_type": "stream",
     "text": [
      "export finished\n",
      "importingC:/Users/User/Desktop/VSCpython/senior_prj/load_reformat/load_newmeter_20230608.xlsx\n",
      "a\n",
      "b\n"
     ]
    },
    {
     "name": "stderr",
     "output_type": "stream",
     "text": [
      "C:\\Users\\User\\AppData\\Local\\Temp\\ipykernel_16880\\853392660.py:11: SettingWithCopyWarning: \n",
      "A value is trying to be set on a copy of a slice from a DataFrame\n",
      "\n",
      "See the caveats in the documentation: https://pandas.pydata.org/pandas-docs/stable/user_guide/indexing.html#returning-a-view-versus-a-copy\n",
      "  df['period'][:-1] = pd.Series( df['timediff(ms)']).diff(periods= 1 )[1:]\n"
     ]
    },
    {
     "name": "stdout",
     "output_type": "stream",
     "text": [
      "export finished\n",
      "importingC:/Users/User/Desktop/VSCpython/senior_prj/load_reformat/load_newmeter_20230609.xlsx\n",
      "a\n",
      "b\n"
     ]
    },
    {
     "name": "stderr",
     "output_type": "stream",
     "text": [
      "C:\\Users\\User\\AppData\\Local\\Temp\\ipykernel_16880\\853392660.py:11: SettingWithCopyWarning: \n",
      "A value is trying to be set on a copy of a slice from a DataFrame\n",
      "\n",
      "See the caveats in the documentation: https://pandas.pydata.org/pandas-docs/stable/user_guide/indexing.html#returning-a-view-versus-a-copy\n",
      "  df['period'][:-1] = pd.Series( df['timediff(ms)']).diff(periods= 1 )[1:]\n"
     ]
    },
    {
     "name": "stdout",
     "output_type": "stream",
     "text": [
      "export finished\n",
      "importingC:/Users/User/Desktop/VSCpython/senior_prj/load_reformat/load_newmeter_20230610.xlsx\n",
      "a\n",
      "b\n"
     ]
    },
    {
     "name": "stderr",
     "output_type": "stream",
     "text": [
      "C:\\Users\\User\\AppData\\Local\\Temp\\ipykernel_16880\\853392660.py:11: SettingWithCopyWarning: \n",
      "A value is trying to be set on a copy of a slice from a DataFrame\n",
      "\n",
      "See the caveats in the documentation: https://pandas.pydata.org/pandas-docs/stable/user_guide/indexing.html#returning-a-view-versus-a-copy\n",
      "  df['period'][:-1] = pd.Series( df['timediff(ms)']).diff(periods= 1 )[1:]\n"
     ]
    },
    {
     "name": "stdout",
     "output_type": "stream",
     "text": [
      "export finished\n",
      "importingC:/Users/User/Desktop/VSCpython/senior_prj/load_reformat/load_newmeter_20230611.xlsx\n",
      "a\n",
      "b\n"
     ]
    },
    {
     "name": "stderr",
     "output_type": "stream",
     "text": [
      "C:\\Users\\User\\AppData\\Local\\Temp\\ipykernel_16880\\853392660.py:11: SettingWithCopyWarning: \n",
      "A value is trying to be set on a copy of a slice from a DataFrame\n",
      "\n",
      "See the caveats in the documentation: https://pandas.pydata.org/pandas-docs/stable/user_guide/indexing.html#returning-a-view-versus-a-copy\n",
      "  df['period'][:-1] = pd.Series( df['timediff(ms)']).diff(periods= 1 )[1:]\n"
     ]
    },
    {
     "name": "stdout",
     "output_type": "stream",
     "text": [
      "export finished\n",
      "importingC:/Users/User/Desktop/VSCpython/senior_prj/load_reformat/load_newmeter_20230612.xlsx\n",
      "a\n",
      "b\n"
     ]
    },
    {
     "name": "stderr",
     "output_type": "stream",
     "text": [
      "C:\\Users\\User\\AppData\\Local\\Temp\\ipykernel_16880\\853392660.py:11: SettingWithCopyWarning: \n",
      "A value is trying to be set on a copy of a slice from a DataFrame\n",
      "\n",
      "See the caveats in the documentation: https://pandas.pydata.org/pandas-docs/stable/user_guide/indexing.html#returning-a-view-versus-a-copy\n",
      "  df['period'][:-1] = pd.Series( df['timediff(ms)']).diff(periods= 1 )[1:]\n"
     ]
    },
    {
     "name": "stdout",
     "output_type": "stream",
     "text": [
      "export finished\n",
      "importingC:/Users/User/Desktop/VSCpython/senior_prj/load_reformat/load_newmeter_20230613.xlsx\n",
      "a\n",
      "b\n"
     ]
    },
    {
     "name": "stderr",
     "output_type": "stream",
     "text": [
      "C:\\Users\\User\\AppData\\Local\\Temp\\ipykernel_16880\\853392660.py:11: SettingWithCopyWarning: \n",
      "A value is trying to be set on a copy of a slice from a DataFrame\n",
      "\n",
      "See the caveats in the documentation: https://pandas.pydata.org/pandas-docs/stable/user_guide/indexing.html#returning-a-view-versus-a-copy\n",
      "  df['period'][:-1] = pd.Series( df['timediff(ms)']).diff(periods= 1 )[1:]\n"
     ]
    },
    {
     "name": "stdout",
     "output_type": "stream",
     "text": [
      "export finished\n",
      "importingC:/Users/User/Desktop/VSCpython/senior_prj/load_reformat/load_newmeter_20230614.xlsx\n",
      "a\n",
      "b\n"
     ]
    },
    {
     "name": "stderr",
     "output_type": "stream",
     "text": [
      "C:\\Users\\User\\AppData\\Local\\Temp\\ipykernel_16880\\853392660.py:11: SettingWithCopyWarning: \n",
      "A value is trying to be set on a copy of a slice from a DataFrame\n",
      "\n",
      "See the caveats in the documentation: https://pandas.pydata.org/pandas-docs/stable/user_guide/indexing.html#returning-a-view-versus-a-copy\n",
      "  df['period'][:-1] = pd.Series( df['timediff(ms)']).diff(periods= 1 )[1:]\n"
     ]
    },
    {
     "name": "stdout",
     "output_type": "stream",
     "text": [
      "export finished\n",
      "importingC:/Users/User/Desktop/VSCpython/senior_prj/load_reformat/load_newmeter_20230615.xlsx\n",
      "a\n",
      "b\n",
      "export finished\n"
     ]
    },
    {
     "name": "stderr",
     "output_type": "stream",
     "text": [
      "C:\\Users\\User\\AppData\\Local\\Temp\\ipykernel_16880\\853392660.py:11: SettingWithCopyWarning: \n",
      "A value is trying to be set on a copy of a slice from a DataFrame\n",
      "\n",
      "See the caveats in the documentation: https://pandas.pydata.org/pandas-docs/stable/user_guide/indexing.html#returning-a-view-versus-a-copy\n",
      "  df['period'][:-1] = pd.Series( df['timediff(ms)']).diff(periods= 1 )[1:]\n"
     ]
    },
    {
     "name": "stdout",
     "output_type": "stream",
     "text": [
      "importingC:/Users/User/Desktop/VSCpython/senior_prj/load_reformat/load_newmeter_20230616.xlsx\n",
      "a\n",
      "b\n"
     ]
    },
    {
     "name": "stderr",
     "output_type": "stream",
     "text": [
      "C:\\Users\\User\\AppData\\Local\\Temp\\ipykernel_16880\\853392660.py:11: SettingWithCopyWarning: \n",
      "A value is trying to be set on a copy of a slice from a DataFrame\n",
      "\n",
      "See the caveats in the documentation: https://pandas.pydata.org/pandas-docs/stable/user_guide/indexing.html#returning-a-view-versus-a-copy\n",
      "  df['period'][:-1] = pd.Series( df['timediff(ms)']).diff(periods= 1 )[1:]\n"
     ]
    },
    {
     "name": "stdout",
     "output_type": "stream",
     "text": [
      "export finished\n",
      "importingC:/Users/User/Desktop/VSCpython/senior_prj/load_reformat/load_newmeter_20230617.xlsx\n",
      "a\n",
      "b\n"
     ]
    },
    {
     "name": "stderr",
     "output_type": "stream",
     "text": [
      "C:\\Users\\User\\AppData\\Local\\Temp\\ipykernel_16880\\853392660.py:11: SettingWithCopyWarning: \n",
      "A value is trying to be set on a copy of a slice from a DataFrame\n",
      "\n",
      "See the caveats in the documentation: https://pandas.pydata.org/pandas-docs/stable/user_guide/indexing.html#returning-a-view-versus-a-copy\n",
      "  df['period'][:-1] = pd.Series( df['timediff(ms)']).diff(periods= 1 )[1:]\n"
     ]
    },
    {
     "name": "stdout",
     "output_type": "stream",
     "text": [
      "export finished\n",
      "importingC:/Users/User/Desktop/VSCpython/senior_prj/load_reformat/load_newmeter_20230618.xlsx\n",
      "a\n",
      "b\n"
     ]
    },
    {
     "name": "stderr",
     "output_type": "stream",
     "text": [
      "C:\\Users\\User\\AppData\\Local\\Temp\\ipykernel_16880\\853392660.py:11: SettingWithCopyWarning: \n",
      "A value is trying to be set on a copy of a slice from a DataFrame\n",
      "\n",
      "See the caveats in the documentation: https://pandas.pydata.org/pandas-docs/stable/user_guide/indexing.html#returning-a-view-versus-a-copy\n",
      "  df['period'][:-1] = pd.Series( df['timediff(ms)']).diff(periods= 1 )[1:]\n"
     ]
    },
    {
     "name": "stdout",
     "output_type": "stream",
     "text": [
      "export finished\n",
      "importingC:/Users/User/Desktop/VSCpython/senior_prj/load_reformat/load_newmeter_20230619.xlsx\n",
      "a\n",
      "b\n"
     ]
    },
    {
     "name": "stderr",
     "output_type": "stream",
     "text": [
      "C:\\Users\\User\\AppData\\Local\\Temp\\ipykernel_16880\\853392660.py:11: SettingWithCopyWarning: \n",
      "A value is trying to be set on a copy of a slice from a DataFrame\n",
      "\n",
      "See the caveats in the documentation: https://pandas.pydata.org/pandas-docs/stable/user_guide/indexing.html#returning-a-view-versus-a-copy\n",
      "  df['period'][:-1] = pd.Series( df['timediff(ms)']).diff(periods= 1 )[1:]\n"
     ]
    },
    {
     "name": "stdout",
     "output_type": "stream",
     "text": [
      "export finished\n",
      "importingC:/Users/User/Desktop/VSCpython/senior_prj/load_reformat/load_newmeter_20230620.xlsx\n",
      "a\n",
      "b\n"
     ]
    },
    {
     "name": "stderr",
     "output_type": "stream",
     "text": [
      "C:\\Users\\User\\AppData\\Local\\Temp\\ipykernel_16880\\853392660.py:11: SettingWithCopyWarning: \n",
      "A value is trying to be set on a copy of a slice from a DataFrame\n",
      "\n",
      "See the caveats in the documentation: https://pandas.pydata.org/pandas-docs/stable/user_guide/indexing.html#returning-a-view-versus-a-copy\n",
      "  df['period'][:-1] = pd.Series( df['timediff(ms)']).diff(periods= 1 )[1:]\n"
     ]
    },
    {
     "name": "stdout",
     "output_type": "stream",
     "text": [
      "export finished\n",
      "importingC:/Users/User/Desktop/VSCpython/senior_prj/load_reformat/load_newmeter_20230621.xlsx\n",
      "a\n",
      "b\n"
     ]
    },
    {
     "name": "stderr",
     "output_type": "stream",
     "text": [
      "C:\\Users\\User\\AppData\\Local\\Temp\\ipykernel_16880\\853392660.py:11: SettingWithCopyWarning: \n",
      "A value is trying to be set on a copy of a slice from a DataFrame\n",
      "\n",
      "See the caveats in the documentation: https://pandas.pydata.org/pandas-docs/stable/user_guide/indexing.html#returning-a-view-versus-a-copy\n",
      "  df['period'][:-1] = pd.Series( df['timediff(ms)']).diff(periods= 1 )[1:]\n"
     ]
    },
    {
     "name": "stdout",
     "output_type": "stream",
     "text": [
      "export finished\n",
      "importingC:/Users/User/Desktop/VSCpython/senior_prj/load_reformat/load_newmeter_20230622.xlsx\n",
      "a\n",
      "b\n"
     ]
    },
    {
     "name": "stderr",
     "output_type": "stream",
     "text": [
      "C:\\Users\\User\\AppData\\Local\\Temp\\ipykernel_16880\\853392660.py:11: SettingWithCopyWarning: \n",
      "A value is trying to be set on a copy of a slice from a DataFrame\n",
      "\n",
      "See the caveats in the documentation: https://pandas.pydata.org/pandas-docs/stable/user_guide/indexing.html#returning-a-view-versus-a-copy\n",
      "  df['period'][:-1] = pd.Series( df['timediff(ms)']).diff(periods= 1 )[1:]\n"
     ]
    },
    {
     "name": "stdout",
     "output_type": "stream",
     "text": [
      "export finished\n",
      "importingC:/Users/User/Desktop/VSCpython/senior_prj/load_reformat/load_newmeter_20230623.xlsx\n",
      "a\n",
      "b\n"
     ]
    },
    {
     "name": "stderr",
     "output_type": "stream",
     "text": [
      "C:\\Users\\User\\AppData\\Local\\Temp\\ipykernel_16880\\853392660.py:11: SettingWithCopyWarning: \n",
      "A value is trying to be set on a copy of a slice from a DataFrame\n",
      "\n",
      "See the caveats in the documentation: https://pandas.pydata.org/pandas-docs/stable/user_guide/indexing.html#returning-a-view-versus-a-copy\n",
      "  df['period'][:-1] = pd.Series( df['timediff(ms)']).diff(periods= 1 )[1:]\n"
     ]
    },
    {
     "name": "stdout",
     "output_type": "stream",
     "text": [
      "export finished\n",
      "importingC:/Users/User/Desktop/VSCpython/senior_prj/load_reformat/load_newmeter_20230624.xlsx\n",
      "a\n",
      "b\n"
     ]
    },
    {
     "name": "stderr",
     "output_type": "stream",
     "text": [
      "C:\\Users\\User\\AppData\\Local\\Temp\\ipykernel_16880\\853392660.py:11: SettingWithCopyWarning: \n",
      "A value is trying to be set on a copy of a slice from a DataFrame\n",
      "\n",
      "See the caveats in the documentation: https://pandas.pydata.org/pandas-docs/stable/user_guide/indexing.html#returning-a-view-versus-a-copy\n",
      "  df['period'][:-1] = pd.Series( df['timediff(ms)']).diff(periods= 1 )[1:]\n"
     ]
    },
    {
     "name": "stdout",
     "output_type": "stream",
     "text": [
      "export finished\n",
      "importingC:/Users/User/Desktop/VSCpython/senior_prj/load_reformat/load_newmeter_20230625.xlsx\n",
      "a\n",
      "b\n"
     ]
    },
    {
     "name": "stderr",
     "output_type": "stream",
     "text": [
      "C:\\Users\\User\\AppData\\Local\\Temp\\ipykernel_16880\\853392660.py:11: SettingWithCopyWarning: \n",
      "A value is trying to be set on a copy of a slice from a DataFrame\n",
      "\n",
      "See the caveats in the documentation: https://pandas.pydata.org/pandas-docs/stable/user_guide/indexing.html#returning-a-view-versus-a-copy\n",
      "  df['period'][:-1] = pd.Series( df['timediff(ms)']).diff(periods= 1 )[1:]\n"
     ]
    },
    {
     "name": "stdout",
     "output_type": "stream",
     "text": [
      "export finished\n",
      "importingC:/Users/User/Desktop/VSCpython/senior_prj/load_reformat/load_newmeter_20230626.xlsx\n",
      "a\n"
     ]
    },
    {
     "name": "stderr",
     "output_type": "stream",
     "text": [
      "C:\\Users\\User\\AppData\\Local\\Temp\\ipykernel_16880\\853392660.py:11: SettingWithCopyWarning: \n",
      "A value is trying to be set on a copy of a slice from a DataFrame\n",
      "\n",
      "See the caveats in the documentation: https://pandas.pydata.org/pandas-docs/stable/user_guide/indexing.html#returning-a-view-versus-a-copy\n",
      "  df['period'][:-1] = pd.Series( df['timediff(ms)']).diff(periods= 1 )[1:]\n"
     ]
    },
    {
     "name": "stdout",
     "output_type": "stream",
     "text": [
      "b\n",
      "export finished\n",
      "importingC:/Users/User/Desktop/VSCpython/senior_prj/load_reformat/load_newmeter_20230627.xlsx\n",
      "a\n",
      "b\n"
     ]
    },
    {
     "name": "stderr",
     "output_type": "stream",
     "text": [
      "C:\\Users\\User\\AppData\\Local\\Temp\\ipykernel_16880\\853392660.py:11: SettingWithCopyWarning: \n",
      "A value is trying to be set on a copy of a slice from a DataFrame\n",
      "\n",
      "See the caveats in the documentation: https://pandas.pydata.org/pandas-docs/stable/user_guide/indexing.html#returning-a-view-versus-a-copy\n",
      "  df['period'][:-1] = pd.Series( df['timediff(ms)']).diff(periods= 1 )[1:]\n"
     ]
    },
    {
     "name": "stdout",
     "output_type": "stream",
     "text": [
      "export finished\n",
      "importingC:/Users/User/Desktop/VSCpython/senior_prj/load_reformat/load_newmeter_20230628.xlsx\n",
      "a\n",
      "b\n"
     ]
    },
    {
     "name": "stderr",
     "output_type": "stream",
     "text": [
      "C:\\Users\\User\\AppData\\Local\\Temp\\ipykernel_16880\\853392660.py:11: SettingWithCopyWarning: \n",
      "A value is trying to be set on a copy of a slice from a DataFrame\n",
      "\n",
      "See the caveats in the documentation: https://pandas.pydata.org/pandas-docs/stable/user_guide/indexing.html#returning-a-view-versus-a-copy\n",
      "  df['period'][:-1] = pd.Series( df['timediff(ms)']).diff(periods= 1 )[1:]\n"
     ]
    },
    {
     "name": "stdout",
     "output_type": "stream",
     "text": [
      "export finished\n",
      "importingC:/Users/User/Desktop/VSCpython/senior_prj/load_reformat/load_newmeter_20230629.xlsx\n",
      "a\n",
      "b\n"
     ]
    },
    {
     "name": "stderr",
     "output_type": "stream",
     "text": [
      "C:\\Users\\User\\AppData\\Local\\Temp\\ipykernel_16880\\853392660.py:11: SettingWithCopyWarning: \n",
      "A value is trying to be set on a copy of a slice from a DataFrame\n",
      "\n",
      "See the caveats in the documentation: https://pandas.pydata.org/pandas-docs/stable/user_guide/indexing.html#returning-a-view-versus-a-copy\n",
      "  df['period'][:-1] = pd.Series( df['timediff(ms)']).diff(periods= 1 )[1:]\n"
     ]
    },
    {
     "name": "stdout",
     "output_type": "stream",
     "text": [
      "export finished\n",
      "importingC:/Users/User/Desktop/VSCpython/senior_prj/load_reformat/load_newmeter_20230630.xlsx\n",
      "a\n",
      "b\n"
     ]
    },
    {
     "name": "stderr",
     "output_type": "stream",
     "text": [
      "C:\\Users\\User\\AppData\\Local\\Temp\\ipykernel_16880\\853392660.py:11: SettingWithCopyWarning: \n",
      "A value is trying to be set on a copy of a slice from a DataFrame\n",
      "\n",
      "See the caveats in the documentation: https://pandas.pydata.org/pandas-docs/stable/user_guide/indexing.html#returning-a-view-versus-a-copy\n",
      "  df['period'][:-1] = pd.Series( df['timediff(ms)']).diff(periods= 1 )[1:]\n"
     ]
    },
    {
     "name": "stdout",
     "output_type": "stream",
     "text": [
      "export finished\n",
      "importingC:/Users/User/Desktop/VSCpython/senior_prj/load_reformat/load_newmeter_20230701.xlsx\n",
      "a\n",
      "b\n"
     ]
    },
    {
     "name": "stderr",
     "output_type": "stream",
     "text": [
      "C:\\Users\\User\\AppData\\Local\\Temp\\ipykernel_16880\\853392660.py:11: SettingWithCopyWarning: \n",
      "A value is trying to be set on a copy of a slice from a DataFrame\n",
      "\n",
      "See the caveats in the documentation: https://pandas.pydata.org/pandas-docs/stable/user_guide/indexing.html#returning-a-view-versus-a-copy\n",
      "  df['period'][:-1] = pd.Series( df['timediff(ms)']).diff(periods= 1 )[1:]\n"
     ]
    },
    {
     "name": "stdout",
     "output_type": "stream",
     "text": [
      "export finished\n",
      "importingC:/Users/User/Desktop/VSCpython/senior_prj/load_reformat/load_newmeter_20230702.xlsx\n",
      "a\n",
      "b\n"
     ]
    },
    {
     "name": "stderr",
     "output_type": "stream",
     "text": [
      "C:\\Users\\User\\AppData\\Local\\Temp\\ipykernel_16880\\853392660.py:11: SettingWithCopyWarning: \n",
      "A value is trying to be set on a copy of a slice from a DataFrame\n",
      "\n",
      "See the caveats in the documentation: https://pandas.pydata.org/pandas-docs/stable/user_guide/indexing.html#returning-a-view-versus-a-copy\n",
      "  df['period'][:-1] = pd.Series( df['timediff(ms)']).diff(periods= 1 )[1:]\n"
     ]
    },
    {
     "name": "stdout",
     "output_type": "stream",
     "text": [
      "export finished\n",
      "importingC:/Users/User/Desktop/VSCpython/senior_prj/load_reformat/load_newmeter_20230703.xlsx\n",
      "a\n",
      "b\n"
     ]
    },
    {
     "name": "stderr",
     "output_type": "stream",
     "text": [
      "C:\\Users\\User\\AppData\\Local\\Temp\\ipykernel_16880\\853392660.py:11: SettingWithCopyWarning: \n",
      "A value is trying to be set on a copy of a slice from a DataFrame\n",
      "\n",
      "See the caveats in the documentation: https://pandas.pydata.org/pandas-docs/stable/user_guide/indexing.html#returning-a-view-versus-a-copy\n",
      "  df['period'][:-1] = pd.Series( df['timediff(ms)']).diff(periods= 1 )[1:]\n"
     ]
    },
    {
     "name": "stdout",
     "output_type": "stream",
     "text": [
      "export finished\n",
      "importingC:/Users/User/Desktop/VSCpython/senior_prj/load_reformat/load_newmeter_20230704.xlsx\n",
      "a\n",
      "b\n"
     ]
    },
    {
     "name": "stderr",
     "output_type": "stream",
     "text": [
      "C:\\Users\\User\\AppData\\Local\\Temp\\ipykernel_16880\\853392660.py:11: SettingWithCopyWarning: \n",
      "A value is trying to be set on a copy of a slice from a DataFrame\n",
      "\n",
      "See the caveats in the documentation: https://pandas.pydata.org/pandas-docs/stable/user_guide/indexing.html#returning-a-view-versus-a-copy\n",
      "  df['period'][:-1] = pd.Series( df['timediff(ms)']).diff(periods= 1 )[1:]\n"
     ]
    },
    {
     "name": "stdout",
     "output_type": "stream",
     "text": [
      "export finished\n",
      "importingC:/Users/User/Desktop/VSCpython/senior_prj/load_reformat/load_newmeter_20230705.xlsx\n",
      "a\n",
      "b\n"
     ]
    },
    {
     "name": "stderr",
     "output_type": "stream",
     "text": [
      "C:\\Users\\User\\AppData\\Local\\Temp\\ipykernel_16880\\853392660.py:11: SettingWithCopyWarning: \n",
      "A value is trying to be set on a copy of a slice from a DataFrame\n",
      "\n",
      "See the caveats in the documentation: https://pandas.pydata.org/pandas-docs/stable/user_guide/indexing.html#returning-a-view-versus-a-copy\n",
      "  df['period'][:-1] = pd.Series( df['timediff(ms)']).diff(periods= 1 )[1:]\n"
     ]
    },
    {
     "name": "stdout",
     "output_type": "stream",
     "text": [
      "export finished\n",
      "importingC:/Users/User/Desktop/VSCpython/senior_prj/load_reformat/load_newmeter_20230706.xlsx\n",
      "a\n",
      "b\n"
     ]
    },
    {
     "name": "stderr",
     "output_type": "stream",
     "text": [
      "C:\\Users\\User\\AppData\\Local\\Temp\\ipykernel_16880\\853392660.py:11: SettingWithCopyWarning: \n",
      "A value is trying to be set on a copy of a slice from a DataFrame\n",
      "\n",
      "See the caveats in the documentation: https://pandas.pydata.org/pandas-docs/stable/user_guide/indexing.html#returning-a-view-versus-a-copy\n",
      "  df['period'][:-1] = pd.Series( df['timediff(ms)']).diff(periods= 1 )[1:]\n"
     ]
    },
    {
     "name": "stdout",
     "output_type": "stream",
     "text": [
      "export finished\n",
      "importingC:/Users/User/Desktop/VSCpython/senior_prj/load_reformat/load_newmeter_20230707.xlsx\n",
      "a\n",
      "b\n"
     ]
    },
    {
     "name": "stderr",
     "output_type": "stream",
     "text": [
      "C:\\Users\\User\\AppData\\Local\\Temp\\ipykernel_16880\\853392660.py:11: SettingWithCopyWarning: \n",
      "A value is trying to be set on a copy of a slice from a DataFrame\n",
      "\n",
      "See the caveats in the documentation: https://pandas.pydata.org/pandas-docs/stable/user_guide/indexing.html#returning-a-view-versus-a-copy\n",
      "  df['period'][:-1] = pd.Series( df['timediff(ms)']).diff(periods= 1 )[1:]\n"
     ]
    },
    {
     "name": "stdout",
     "output_type": "stream",
     "text": [
      "export finished\n",
      "importingC:/Users/User/Desktop/VSCpython/senior_prj/load_reformat/load_newmeter_20230708.xlsx\n",
      "a\n",
      "b\n"
     ]
    },
    {
     "name": "stderr",
     "output_type": "stream",
     "text": [
      "C:\\Users\\User\\AppData\\Local\\Temp\\ipykernel_16880\\853392660.py:11: SettingWithCopyWarning: \n",
      "A value is trying to be set on a copy of a slice from a DataFrame\n",
      "\n",
      "See the caveats in the documentation: https://pandas.pydata.org/pandas-docs/stable/user_guide/indexing.html#returning-a-view-versus-a-copy\n",
      "  df['period'][:-1] = pd.Series( df['timediff(ms)']).diff(periods= 1 )[1:]\n"
     ]
    },
    {
     "name": "stdout",
     "output_type": "stream",
     "text": [
      "export finished\n",
      "importingC:/Users/User/Desktop/VSCpython/senior_prj/load_reformat/load_newmeter_20230709.xlsx\n",
      "a\n",
      "b\n"
     ]
    },
    {
     "name": "stderr",
     "output_type": "stream",
     "text": [
      "C:\\Users\\User\\AppData\\Local\\Temp\\ipykernel_16880\\853392660.py:11: SettingWithCopyWarning: \n",
      "A value is trying to be set on a copy of a slice from a DataFrame\n",
      "\n",
      "See the caveats in the documentation: https://pandas.pydata.org/pandas-docs/stable/user_guide/indexing.html#returning-a-view-versus-a-copy\n",
      "  df['period'][:-1] = pd.Series( df['timediff(ms)']).diff(periods= 1 )[1:]\n"
     ]
    },
    {
     "name": "stdout",
     "output_type": "stream",
     "text": [
      "export finished\n",
      "importingC:/Users/User/Desktop/VSCpython/senior_prj/load_reformat/load_newmeter_20230710.xlsx\n",
      "a\n",
      "b\n"
     ]
    },
    {
     "name": "stderr",
     "output_type": "stream",
     "text": [
      "C:\\Users\\User\\AppData\\Local\\Temp\\ipykernel_16880\\853392660.py:11: SettingWithCopyWarning: \n",
      "A value is trying to be set on a copy of a slice from a DataFrame\n",
      "\n",
      "See the caveats in the documentation: https://pandas.pydata.org/pandas-docs/stable/user_guide/indexing.html#returning-a-view-versus-a-copy\n",
      "  df['period'][:-1] = pd.Series( df['timediff(ms)']).diff(periods= 1 )[1:]\n"
     ]
    },
    {
     "name": "stdout",
     "output_type": "stream",
     "text": [
      "export finished\n",
      "importingC:/Users/User/Desktop/VSCpython/senior_prj/load_reformat/load_newmeter_20230711.xlsx\n",
      "a\n",
      "b\n"
     ]
    },
    {
     "name": "stderr",
     "output_type": "stream",
     "text": [
      "C:\\Users\\User\\AppData\\Local\\Temp\\ipykernel_16880\\853392660.py:11: SettingWithCopyWarning: \n",
      "A value is trying to be set on a copy of a slice from a DataFrame\n",
      "\n",
      "See the caveats in the documentation: https://pandas.pydata.org/pandas-docs/stable/user_guide/indexing.html#returning-a-view-versus-a-copy\n",
      "  df['period'][:-1] = pd.Series( df['timediff(ms)']).diff(periods= 1 )[1:]\n"
     ]
    },
    {
     "name": "stdout",
     "output_type": "stream",
     "text": [
      "export finished\n",
      "importingC:/Users/User/Desktop/VSCpython/senior_prj/load_reformat/load_oldmeter_20230301.xlsx\n",
      "a\n",
      "b\n"
     ]
    },
    {
     "name": "stderr",
     "output_type": "stream",
     "text": [
      "C:\\Users\\User\\AppData\\Local\\Temp\\ipykernel_16880\\853392660.py:11: SettingWithCopyWarning: \n",
      "A value is trying to be set on a copy of a slice from a DataFrame\n",
      "\n",
      "See the caveats in the documentation: https://pandas.pydata.org/pandas-docs/stable/user_guide/indexing.html#returning-a-view-versus-a-copy\n",
      "  df['period'][:-1] = pd.Series( df['timediff(ms)']).diff(periods= 1 )[1:]\n"
     ]
    },
    {
     "name": "stdout",
     "output_type": "stream",
     "text": [
      "export finished\n",
      "importingC:/Users/User/Desktop/VSCpython/senior_prj/load_reformat/load_oldmeter_20230302.xlsx\n",
      "a\n",
      "b\n"
     ]
    },
    {
     "name": "stderr",
     "output_type": "stream",
     "text": [
      "C:\\Users\\User\\AppData\\Local\\Temp\\ipykernel_16880\\853392660.py:11: SettingWithCopyWarning: \n",
      "A value is trying to be set on a copy of a slice from a DataFrame\n",
      "\n",
      "See the caveats in the documentation: https://pandas.pydata.org/pandas-docs/stable/user_guide/indexing.html#returning-a-view-versus-a-copy\n",
      "  df['period'][:-1] = pd.Series( df['timediff(ms)']).diff(periods= 1 )[1:]\n"
     ]
    },
    {
     "name": "stdout",
     "output_type": "stream",
     "text": [
      "export finished\n",
      "importingC:/Users/User/Desktop/VSCpython/senior_prj/load_reformat/load_oldmeter_20230303.xlsx\n",
      "a\n",
      "b\n",
      "export finished\n"
     ]
    },
    {
     "name": "stderr",
     "output_type": "stream",
     "text": [
      "C:\\Users\\User\\AppData\\Local\\Temp\\ipykernel_16880\\853392660.py:11: SettingWithCopyWarning: \n",
      "A value is trying to be set on a copy of a slice from a DataFrame\n",
      "\n",
      "See the caveats in the documentation: https://pandas.pydata.org/pandas-docs/stable/user_guide/indexing.html#returning-a-view-versus-a-copy\n",
      "  df['period'][:-1] = pd.Series( df['timediff(ms)']).diff(periods= 1 )[1:]\n"
     ]
    },
    {
     "name": "stdout",
     "output_type": "stream",
     "text": [
      "importingC:/Users/User/Desktop/VSCpython/senior_prj/load_reformat/load_oldmeter_20230304.xlsx\n",
      "a\n",
      "b\n",
      "export finished\n"
     ]
    },
    {
     "name": "stderr",
     "output_type": "stream",
     "text": [
      "C:\\Users\\User\\AppData\\Local\\Temp\\ipykernel_16880\\853392660.py:11: SettingWithCopyWarning: \n",
      "A value is trying to be set on a copy of a slice from a DataFrame\n",
      "\n",
      "See the caveats in the documentation: https://pandas.pydata.org/pandas-docs/stable/user_guide/indexing.html#returning-a-view-versus-a-copy\n",
      "  df['period'][:-1] = pd.Series( df['timediff(ms)']).diff(periods= 1 )[1:]\n"
     ]
    },
    {
     "name": "stdout",
     "output_type": "stream",
     "text": [
      "importingC:/Users/User/Desktop/VSCpython/senior_prj/load_reformat/load_oldmeter_20230305.xlsx\n",
      "a\n",
      "b\n"
     ]
    },
    {
     "name": "stderr",
     "output_type": "stream",
     "text": [
      "C:\\Users\\User\\AppData\\Local\\Temp\\ipykernel_16880\\853392660.py:11: SettingWithCopyWarning: \n",
      "A value is trying to be set on a copy of a slice from a DataFrame\n",
      "\n",
      "See the caveats in the documentation: https://pandas.pydata.org/pandas-docs/stable/user_guide/indexing.html#returning-a-view-versus-a-copy\n",
      "  df['period'][:-1] = pd.Series( df['timediff(ms)']).diff(periods= 1 )[1:]\n"
     ]
    },
    {
     "name": "stdout",
     "output_type": "stream",
     "text": [
      "export finished\n",
      "importingC:/Users/User/Desktop/VSCpython/senior_prj/load_reformat/load_oldmeter_20230306.xlsx\n",
      "a\n",
      "b\n"
     ]
    },
    {
     "name": "stderr",
     "output_type": "stream",
     "text": [
      "C:\\Users\\User\\AppData\\Local\\Temp\\ipykernel_16880\\853392660.py:11: SettingWithCopyWarning: \n",
      "A value is trying to be set on a copy of a slice from a DataFrame\n",
      "\n",
      "See the caveats in the documentation: https://pandas.pydata.org/pandas-docs/stable/user_guide/indexing.html#returning-a-view-versus-a-copy\n",
      "  df['period'][:-1] = pd.Series( df['timediff(ms)']).diff(periods= 1 )[1:]\n"
     ]
    },
    {
     "name": "stdout",
     "output_type": "stream",
     "text": [
      "export finished\n",
      "importingC:/Users/User/Desktop/VSCpython/senior_prj/load_reformat/load_oldmeter_20230307.xlsx\n",
      "a\n",
      "b\n"
     ]
    },
    {
     "name": "stderr",
     "output_type": "stream",
     "text": [
      "C:\\Users\\User\\AppData\\Local\\Temp\\ipykernel_16880\\853392660.py:11: SettingWithCopyWarning: \n",
      "A value is trying to be set on a copy of a slice from a DataFrame\n",
      "\n",
      "See the caveats in the documentation: https://pandas.pydata.org/pandas-docs/stable/user_guide/indexing.html#returning-a-view-versus-a-copy\n",
      "  df['period'][:-1] = pd.Series( df['timediff(ms)']).diff(periods= 1 )[1:]\n"
     ]
    },
    {
     "name": "stdout",
     "output_type": "stream",
     "text": [
      "export finished\n",
      "importingC:/Users/User/Desktop/VSCpython/senior_prj/load_reformat/load_oldmeter_20230308.xlsx\n",
      "a\n",
      "b\n"
     ]
    },
    {
     "name": "stderr",
     "output_type": "stream",
     "text": [
      "C:\\Users\\User\\AppData\\Local\\Temp\\ipykernel_16880\\853392660.py:11: SettingWithCopyWarning: \n",
      "A value is trying to be set on a copy of a slice from a DataFrame\n",
      "\n",
      "See the caveats in the documentation: https://pandas.pydata.org/pandas-docs/stable/user_guide/indexing.html#returning-a-view-versus-a-copy\n",
      "  df['period'][:-1] = pd.Series( df['timediff(ms)']).diff(periods= 1 )[1:]\n"
     ]
    },
    {
     "name": "stdout",
     "output_type": "stream",
     "text": [
      "export finished\n",
      "importingC:/Users/User/Desktop/VSCpython/senior_prj/load_reformat/load_oldmeter_20230309.xlsx\n",
      "a\n",
      "b\n",
      "export finished\n"
     ]
    },
    {
     "name": "stderr",
     "output_type": "stream",
     "text": [
      "C:\\Users\\User\\AppData\\Local\\Temp\\ipykernel_16880\\853392660.py:11: SettingWithCopyWarning: \n",
      "A value is trying to be set on a copy of a slice from a DataFrame\n",
      "\n",
      "See the caveats in the documentation: https://pandas.pydata.org/pandas-docs/stable/user_guide/indexing.html#returning-a-view-versus-a-copy\n",
      "  df['period'][:-1] = pd.Series( df['timediff(ms)']).diff(periods= 1 )[1:]\n"
     ]
    },
    {
     "name": "stdout",
     "output_type": "stream",
     "text": [
      "importingC:/Users/User/Desktop/VSCpython/senior_prj/load_reformat/load_oldmeter_20230310.xlsx\n",
      "a\n",
      "b\n"
     ]
    },
    {
     "name": "stderr",
     "output_type": "stream",
     "text": [
      "C:\\Users\\User\\AppData\\Local\\Temp\\ipykernel_16880\\853392660.py:11: SettingWithCopyWarning: \n",
      "A value is trying to be set on a copy of a slice from a DataFrame\n",
      "\n",
      "See the caveats in the documentation: https://pandas.pydata.org/pandas-docs/stable/user_guide/indexing.html#returning-a-view-versus-a-copy\n",
      "  df['period'][:-1] = pd.Series( df['timediff(ms)']).diff(periods= 1 )[1:]\n"
     ]
    },
    {
     "name": "stdout",
     "output_type": "stream",
     "text": [
      "export finished\n",
      "importingC:/Users/User/Desktop/VSCpython/senior_prj/load_reformat/load_oldmeter_20230311.xlsx\n",
      "a\n",
      "b\n",
      "export finished\n"
     ]
    },
    {
     "name": "stderr",
     "output_type": "stream",
     "text": [
      "C:\\Users\\User\\AppData\\Local\\Temp\\ipykernel_16880\\853392660.py:11: SettingWithCopyWarning: \n",
      "A value is trying to be set on a copy of a slice from a DataFrame\n",
      "\n",
      "See the caveats in the documentation: https://pandas.pydata.org/pandas-docs/stable/user_guide/indexing.html#returning-a-view-versus-a-copy\n",
      "  df['period'][:-1] = pd.Series( df['timediff(ms)']).diff(periods= 1 )[1:]\n"
     ]
    },
    {
     "name": "stdout",
     "output_type": "stream",
     "text": [
      "importingC:/Users/User/Desktop/VSCpython/senior_prj/load_reformat/load_oldmeter_20230312.xlsx\n",
      "a\n",
      "b\n",
      "export finished\n"
     ]
    },
    {
     "name": "stderr",
     "output_type": "stream",
     "text": [
      "C:\\Users\\User\\AppData\\Local\\Temp\\ipykernel_16880\\853392660.py:11: SettingWithCopyWarning: \n",
      "A value is trying to be set on a copy of a slice from a DataFrame\n",
      "\n",
      "See the caveats in the documentation: https://pandas.pydata.org/pandas-docs/stable/user_guide/indexing.html#returning-a-view-versus-a-copy\n",
      "  df['period'][:-1] = pd.Series( df['timediff(ms)']).diff(periods= 1 )[1:]\n"
     ]
    },
    {
     "name": "stdout",
     "output_type": "stream",
     "text": [
      "importingC:/Users/User/Desktop/VSCpython/senior_prj/load_reformat/load_oldmeter_20230313.xlsx\n",
      "a\n",
      "b\n"
     ]
    },
    {
     "name": "stderr",
     "output_type": "stream",
     "text": [
      "C:\\Users\\User\\AppData\\Local\\Temp\\ipykernel_16880\\853392660.py:11: SettingWithCopyWarning: \n",
      "A value is trying to be set on a copy of a slice from a DataFrame\n",
      "\n",
      "See the caveats in the documentation: https://pandas.pydata.org/pandas-docs/stable/user_guide/indexing.html#returning-a-view-versus-a-copy\n",
      "  df['period'][:-1] = pd.Series( df['timediff(ms)']).diff(periods= 1 )[1:]\n"
     ]
    },
    {
     "name": "stdout",
     "output_type": "stream",
     "text": [
      "export finished\n",
      "importingC:/Users/User/Desktop/VSCpython/senior_prj/load_reformat/load_oldmeter_20230314.xlsx\n",
      "a\n",
      "b\n"
     ]
    },
    {
     "name": "stderr",
     "output_type": "stream",
     "text": [
      "C:\\Users\\User\\AppData\\Local\\Temp\\ipykernel_16880\\853392660.py:11: SettingWithCopyWarning: \n",
      "A value is trying to be set on a copy of a slice from a DataFrame\n",
      "\n",
      "See the caveats in the documentation: https://pandas.pydata.org/pandas-docs/stable/user_guide/indexing.html#returning-a-view-versus-a-copy\n",
      "  df['period'][:-1] = pd.Series( df['timediff(ms)']).diff(periods= 1 )[1:]\n"
     ]
    },
    {
     "name": "stdout",
     "output_type": "stream",
     "text": [
      "export finished\n",
      "importingC:/Users/User/Desktop/VSCpython/senior_prj/load_reformat/load_oldmeter_20230315.xlsx\n",
      "a\n",
      "b\n"
     ]
    },
    {
     "name": "stderr",
     "output_type": "stream",
     "text": [
      "C:\\Users\\User\\AppData\\Local\\Temp\\ipykernel_16880\\853392660.py:11: SettingWithCopyWarning: \n",
      "A value is trying to be set on a copy of a slice from a DataFrame\n",
      "\n",
      "See the caveats in the documentation: https://pandas.pydata.org/pandas-docs/stable/user_guide/indexing.html#returning-a-view-versus-a-copy\n",
      "  df['period'][:-1] = pd.Series( df['timediff(ms)']).diff(periods= 1 )[1:]\n"
     ]
    },
    {
     "name": "stdout",
     "output_type": "stream",
     "text": [
      "export finished\n",
      "importingC:/Users/User/Desktop/VSCpython/senior_prj/load_reformat/load_oldmeter_20230316.xlsx\n",
      "a\n",
      "b\n"
     ]
    },
    {
     "name": "stderr",
     "output_type": "stream",
     "text": [
      "C:\\Users\\User\\AppData\\Local\\Temp\\ipykernel_16880\\853392660.py:11: SettingWithCopyWarning: \n",
      "A value is trying to be set on a copy of a slice from a DataFrame\n",
      "\n",
      "See the caveats in the documentation: https://pandas.pydata.org/pandas-docs/stable/user_guide/indexing.html#returning-a-view-versus-a-copy\n",
      "  df['period'][:-1] = pd.Series( df['timediff(ms)']).diff(periods= 1 )[1:]\n"
     ]
    },
    {
     "name": "stdout",
     "output_type": "stream",
     "text": [
      "export finished\n",
      "importingC:/Users/User/Desktop/VSCpython/senior_prj/load_reformat/load_oldmeter_20230317.xlsx\n",
      "a\n",
      "b\n"
     ]
    },
    {
     "name": "stderr",
     "output_type": "stream",
     "text": [
      "C:\\Users\\User\\AppData\\Local\\Temp\\ipykernel_16880\\853392660.py:11: SettingWithCopyWarning: \n",
      "A value is trying to be set on a copy of a slice from a DataFrame\n",
      "\n",
      "See the caveats in the documentation: https://pandas.pydata.org/pandas-docs/stable/user_guide/indexing.html#returning-a-view-versus-a-copy\n",
      "  df['period'][:-1] = pd.Series( df['timediff(ms)']).diff(periods= 1 )[1:]\n"
     ]
    },
    {
     "name": "stdout",
     "output_type": "stream",
     "text": [
      "export finished\n",
      "importingC:/Users/User/Desktop/VSCpython/senior_prj/load_reformat/load_oldmeter_20230318.xlsx\n",
      "a\n",
      "b\n"
     ]
    },
    {
     "name": "stderr",
     "output_type": "stream",
     "text": [
      "C:\\Users\\User\\AppData\\Local\\Temp\\ipykernel_16880\\853392660.py:11: SettingWithCopyWarning: \n",
      "A value is trying to be set on a copy of a slice from a DataFrame\n",
      "\n",
      "See the caveats in the documentation: https://pandas.pydata.org/pandas-docs/stable/user_guide/indexing.html#returning-a-view-versus-a-copy\n",
      "  df['period'][:-1] = pd.Series( df['timediff(ms)']).diff(periods= 1 )[1:]\n"
     ]
    },
    {
     "name": "stdout",
     "output_type": "stream",
     "text": [
      "export finished\n",
      "importingC:/Users/User/Desktop/VSCpython/senior_prj/load_reformat/load_oldmeter_20230319.xlsx\n",
      "a\n",
      "b\n"
     ]
    },
    {
     "name": "stderr",
     "output_type": "stream",
     "text": [
      "C:\\Users\\User\\AppData\\Local\\Temp\\ipykernel_16880\\853392660.py:11: SettingWithCopyWarning: \n",
      "A value is trying to be set on a copy of a slice from a DataFrame\n",
      "\n",
      "See the caveats in the documentation: https://pandas.pydata.org/pandas-docs/stable/user_guide/indexing.html#returning-a-view-versus-a-copy\n",
      "  df['period'][:-1] = pd.Series( df['timediff(ms)']).diff(periods= 1 )[1:]\n"
     ]
    },
    {
     "name": "stdout",
     "output_type": "stream",
     "text": [
      "export finished\n",
      "importingC:/Users/User/Desktop/VSCpython/senior_prj/load_reformat/load_oldmeter_20230320.xlsx\n",
      "a\n",
      "b\n"
     ]
    },
    {
     "name": "stderr",
     "output_type": "stream",
     "text": [
      "C:\\Users\\User\\AppData\\Local\\Temp\\ipykernel_16880\\853392660.py:11: SettingWithCopyWarning: \n",
      "A value is trying to be set on a copy of a slice from a DataFrame\n",
      "\n",
      "See the caveats in the documentation: https://pandas.pydata.org/pandas-docs/stable/user_guide/indexing.html#returning-a-view-versus-a-copy\n",
      "  df['period'][:-1] = pd.Series( df['timediff(ms)']).diff(periods= 1 )[1:]\n"
     ]
    },
    {
     "name": "stdout",
     "output_type": "stream",
     "text": [
      "export finished\n",
      "importingC:/Users/User/Desktop/VSCpython/senior_prj/load_reformat/load_oldmeter_20230321.xlsx\n",
      "a\n",
      "b\n"
     ]
    },
    {
     "name": "stderr",
     "output_type": "stream",
     "text": [
      "C:\\Users\\User\\AppData\\Local\\Temp\\ipykernel_16880\\853392660.py:11: SettingWithCopyWarning: \n",
      "A value is trying to be set on a copy of a slice from a DataFrame\n",
      "\n",
      "See the caveats in the documentation: https://pandas.pydata.org/pandas-docs/stable/user_guide/indexing.html#returning-a-view-versus-a-copy\n",
      "  df['period'][:-1] = pd.Series( df['timediff(ms)']).diff(periods= 1 )[1:]\n"
     ]
    },
    {
     "name": "stdout",
     "output_type": "stream",
     "text": [
      "export finished\n",
      "importingC:/Users/User/Desktop/VSCpython/senior_prj/load_reformat/load_oldmeter_20230322.xlsx\n",
      "a\n",
      "b\n"
     ]
    },
    {
     "name": "stderr",
     "output_type": "stream",
     "text": [
      "C:\\Users\\User\\AppData\\Local\\Temp\\ipykernel_16880\\853392660.py:11: SettingWithCopyWarning: \n",
      "A value is trying to be set on a copy of a slice from a DataFrame\n",
      "\n",
      "See the caveats in the documentation: https://pandas.pydata.org/pandas-docs/stable/user_guide/indexing.html#returning-a-view-versus-a-copy\n",
      "  df['period'][:-1] = pd.Series( df['timediff(ms)']).diff(periods= 1 )[1:]\n"
     ]
    },
    {
     "name": "stdout",
     "output_type": "stream",
     "text": [
      "export finished\n",
      "importingC:/Users/User/Desktop/VSCpython/senior_prj/load_reformat/load_oldmeter_20230323.xlsx\n",
      "a\n",
      "b\n"
     ]
    },
    {
     "name": "stderr",
     "output_type": "stream",
     "text": [
      "C:\\Users\\User\\AppData\\Local\\Temp\\ipykernel_16880\\853392660.py:11: SettingWithCopyWarning: \n",
      "A value is trying to be set on a copy of a slice from a DataFrame\n",
      "\n",
      "See the caveats in the documentation: https://pandas.pydata.org/pandas-docs/stable/user_guide/indexing.html#returning-a-view-versus-a-copy\n",
      "  df['period'][:-1] = pd.Series( df['timediff(ms)']).diff(periods= 1 )[1:]\n"
     ]
    },
    {
     "name": "stdout",
     "output_type": "stream",
     "text": [
      "export finished\n",
      "importingC:/Users/User/Desktop/VSCpython/senior_prj/load_reformat/load_oldmeter_20230324.xlsx\n",
      "a\n",
      "b\n"
     ]
    },
    {
     "name": "stderr",
     "output_type": "stream",
     "text": [
      "C:\\Users\\User\\AppData\\Local\\Temp\\ipykernel_16880\\853392660.py:11: SettingWithCopyWarning: \n",
      "A value is trying to be set on a copy of a slice from a DataFrame\n",
      "\n",
      "See the caveats in the documentation: https://pandas.pydata.org/pandas-docs/stable/user_guide/indexing.html#returning-a-view-versus-a-copy\n",
      "  df['period'][:-1] = pd.Series( df['timediff(ms)']).diff(periods= 1 )[1:]\n"
     ]
    },
    {
     "name": "stdout",
     "output_type": "stream",
     "text": [
      "export finished\n",
      "importingC:/Users/User/Desktop/VSCpython/senior_prj/load_reformat/load_oldmeter_20230325.xlsx\n",
      "a\n",
      "b\n"
     ]
    },
    {
     "name": "stderr",
     "output_type": "stream",
     "text": [
      "C:\\Users\\User\\AppData\\Local\\Temp\\ipykernel_16880\\853392660.py:11: SettingWithCopyWarning: \n",
      "A value is trying to be set on a copy of a slice from a DataFrame\n",
      "\n",
      "See the caveats in the documentation: https://pandas.pydata.org/pandas-docs/stable/user_guide/indexing.html#returning-a-view-versus-a-copy\n",
      "  df['period'][:-1] = pd.Series( df['timediff(ms)']).diff(periods= 1 )[1:]\n"
     ]
    },
    {
     "name": "stdout",
     "output_type": "stream",
     "text": [
      "export finished\n",
      "importingC:/Users/User/Desktop/VSCpython/senior_prj/load_reformat/load_oldmeter_20230326.xlsx\n",
      "a\n",
      "b\n"
     ]
    },
    {
     "name": "stderr",
     "output_type": "stream",
     "text": [
      "C:\\Users\\User\\AppData\\Local\\Temp\\ipykernel_16880\\853392660.py:11: SettingWithCopyWarning: \n",
      "A value is trying to be set on a copy of a slice from a DataFrame\n",
      "\n",
      "See the caveats in the documentation: https://pandas.pydata.org/pandas-docs/stable/user_guide/indexing.html#returning-a-view-versus-a-copy\n",
      "  df['period'][:-1] = pd.Series( df['timediff(ms)']).diff(periods= 1 )[1:]\n"
     ]
    },
    {
     "name": "stdout",
     "output_type": "stream",
     "text": [
      "export finished\n",
      "importingC:/Users/User/Desktop/VSCpython/senior_prj/load_reformat/load_oldmeter_20230327.xlsx\n",
      "a\n",
      "b\n"
     ]
    },
    {
     "name": "stderr",
     "output_type": "stream",
     "text": [
      "C:\\Users\\User\\AppData\\Local\\Temp\\ipykernel_16880\\853392660.py:11: SettingWithCopyWarning: \n",
      "A value is trying to be set on a copy of a slice from a DataFrame\n",
      "\n",
      "See the caveats in the documentation: https://pandas.pydata.org/pandas-docs/stable/user_guide/indexing.html#returning-a-view-versus-a-copy\n",
      "  df['period'][:-1] = pd.Series( df['timediff(ms)']).diff(periods= 1 )[1:]\n"
     ]
    },
    {
     "name": "stdout",
     "output_type": "stream",
     "text": [
      "export finished\n",
      "importingC:/Users/User/Desktop/VSCpython/senior_prj/load_reformat/load_oldmeter_20230328.xlsx\n",
      "a\n",
      "b\n",
      "export finished\n"
     ]
    },
    {
     "name": "stderr",
     "output_type": "stream",
     "text": [
      "C:\\Users\\User\\AppData\\Local\\Temp\\ipykernel_16880\\853392660.py:11: SettingWithCopyWarning: \n",
      "A value is trying to be set on a copy of a slice from a DataFrame\n",
      "\n",
      "See the caveats in the documentation: https://pandas.pydata.org/pandas-docs/stable/user_guide/indexing.html#returning-a-view-versus-a-copy\n",
      "  df['period'][:-1] = pd.Series( df['timediff(ms)']).diff(periods= 1 )[1:]\n"
     ]
    },
    {
     "name": "stdout",
     "output_type": "stream",
     "text": [
      "importingC:/Users/User/Desktop/VSCpython/senior_prj/load_reformat/load_oldmeter_20230329.xlsx\n",
      "a\n",
      "b\n",
      "export finished\n"
     ]
    },
    {
     "name": "stderr",
     "output_type": "stream",
     "text": [
      "C:\\Users\\User\\AppData\\Local\\Temp\\ipykernel_16880\\853392660.py:11: SettingWithCopyWarning: \n",
      "A value is trying to be set on a copy of a slice from a DataFrame\n",
      "\n",
      "See the caveats in the documentation: https://pandas.pydata.org/pandas-docs/stable/user_guide/indexing.html#returning-a-view-versus-a-copy\n",
      "  df['period'][:-1] = pd.Series( df['timediff(ms)']).diff(periods= 1 )[1:]\n"
     ]
    },
    {
     "name": "stdout",
     "output_type": "stream",
     "text": [
      "importingC:/Users/User/Desktop/VSCpython/senior_prj/load_reformat/load_oldmeter_20230330.xlsx\n",
      "a\n",
      "b\n"
     ]
    },
    {
     "name": "stderr",
     "output_type": "stream",
     "text": [
      "C:\\Users\\User\\AppData\\Local\\Temp\\ipykernel_16880\\853392660.py:11: SettingWithCopyWarning: \n",
      "A value is trying to be set on a copy of a slice from a DataFrame\n",
      "\n",
      "See the caveats in the documentation: https://pandas.pydata.org/pandas-docs/stable/user_guide/indexing.html#returning-a-view-versus-a-copy\n",
      "  df['period'][:-1] = pd.Series( df['timediff(ms)']).diff(periods= 1 )[1:]\n"
     ]
    },
    {
     "name": "stdout",
     "output_type": "stream",
     "text": [
      "export finished\n",
      "importingC:/Users/User/Desktop/VSCpython/senior_prj/load_reformat/load_oldmeter_20230331.xlsx\n",
      "a\n",
      "b\n",
      "export finished\n"
     ]
    },
    {
     "name": "stderr",
     "output_type": "stream",
     "text": [
      "C:\\Users\\User\\AppData\\Local\\Temp\\ipykernel_16880\\853392660.py:11: SettingWithCopyWarning: \n",
      "A value is trying to be set on a copy of a slice from a DataFrame\n",
      "\n",
      "See the caveats in the documentation: https://pandas.pydata.org/pandas-docs/stable/user_guide/indexing.html#returning-a-view-versus-a-copy\n",
      "  df['period'][:-1] = pd.Series( df['timediff(ms)']).diff(periods= 1 )[1:]\n"
     ]
    },
    {
     "name": "stdout",
     "output_type": "stream",
     "text": [
      "importingC:/Users/User/Desktop/VSCpython/senior_prj/load_reformat/load_oldmeter_20230401.xlsx\n",
      "a\n",
      "b\n",
      "export finished\n"
     ]
    },
    {
     "name": "stderr",
     "output_type": "stream",
     "text": [
      "C:\\Users\\User\\AppData\\Local\\Temp\\ipykernel_16880\\853392660.py:11: SettingWithCopyWarning: \n",
      "A value is trying to be set on a copy of a slice from a DataFrame\n",
      "\n",
      "See the caveats in the documentation: https://pandas.pydata.org/pandas-docs/stable/user_guide/indexing.html#returning-a-view-versus-a-copy\n",
      "  df['period'][:-1] = pd.Series( df['timediff(ms)']).diff(periods= 1 )[1:]\n"
     ]
    },
    {
     "name": "stdout",
     "output_type": "stream",
     "text": [
      "importingC:/Users/User/Desktop/VSCpython/senior_prj/load_reformat/load_oldmeter_20230402.xlsx\n",
      "a\n",
      "b\n"
     ]
    },
    {
     "name": "stderr",
     "output_type": "stream",
     "text": [
      "C:\\Users\\User\\AppData\\Local\\Temp\\ipykernel_16880\\853392660.py:11: SettingWithCopyWarning: \n",
      "A value is trying to be set on a copy of a slice from a DataFrame\n",
      "\n",
      "See the caveats in the documentation: https://pandas.pydata.org/pandas-docs/stable/user_guide/indexing.html#returning-a-view-versus-a-copy\n",
      "  df['period'][:-1] = pd.Series( df['timediff(ms)']).diff(periods= 1 )[1:]\n"
     ]
    },
    {
     "name": "stdout",
     "output_type": "stream",
     "text": [
      "export finished\n",
      "importingC:/Users/User/Desktop/VSCpython/senior_prj/load_reformat/load_oldmeter_20230403.xlsx\n",
      "a\n",
      "b\n"
     ]
    },
    {
     "name": "stderr",
     "output_type": "stream",
     "text": [
      "C:\\Users\\User\\AppData\\Local\\Temp\\ipykernel_16880\\853392660.py:11: SettingWithCopyWarning: \n",
      "A value is trying to be set on a copy of a slice from a DataFrame\n",
      "\n",
      "See the caveats in the documentation: https://pandas.pydata.org/pandas-docs/stable/user_guide/indexing.html#returning-a-view-versus-a-copy\n",
      "  df['period'][:-1] = pd.Series( df['timediff(ms)']).diff(periods= 1 )[1:]\n"
     ]
    },
    {
     "name": "stdout",
     "output_type": "stream",
     "text": [
      "export finished\n",
      "importingC:/Users/User/Desktop/VSCpython/senior_prj/load_reformat/load_oldmeter_20230406.xlsx\n",
      "a\n",
      "b\n",
      "export finished\n"
     ]
    },
    {
     "name": "stderr",
     "output_type": "stream",
     "text": [
      "C:\\Users\\User\\AppData\\Local\\Temp\\ipykernel_16880\\853392660.py:11: SettingWithCopyWarning: \n",
      "A value is trying to be set on a copy of a slice from a DataFrame\n",
      "\n",
      "See the caveats in the documentation: https://pandas.pydata.org/pandas-docs/stable/user_guide/indexing.html#returning-a-view-versus-a-copy\n",
      "  df['period'][:-1] = pd.Series( df['timediff(ms)']).diff(periods= 1 )[1:]\n"
     ]
    },
    {
     "name": "stdout",
     "output_type": "stream",
     "text": [
      "importingC:/Users/User/Desktop/VSCpython/senior_prj/load_reformat/load_oldmeter_20230407.xlsx\n",
      "a\n",
      "b\n",
      "export finished\n"
     ]
    },
    {
     "name": "stderr",
     "output_type": "stream",
     "text": [
      "C:\\Users\\User\\AppData\\Local\\Temp\\ipykernel_16880\\853392660.py:11: SettingWithCopyWarning: \n",
      "A value is trying to be set on a copy of a slice from a DataFrame\n",
      "\n",
      "See the caveats in the documentation: https://pandas.pydata.org/pandas-docs/stable/user_guide/indexing.html#returning-a-view-versus-a-copy\n",
      "  df['period'][:-1] = pd.Series( df['timediff(ms)']).diff(periods= 1 )[1:]\n"
     ]
    },
    {
     "name": "stdout",
     "output_type": "stream",
     "text": [
      "importingC:/Users/User/Desktop/VSCpython/senior_prj/load_reformat/load_oldmeter_20230408.xlsx\n",
      "a\n",
      "b\n"
     ]
    },
    {
     "name": "stderr",
     "output_type": "stream",
     "text": [
      "C:\\Users\\User\\AppData\\Local\\Temp\\ipykernel_16880\\853392660.py:11: SettingWithCopyWarning: \n",
      "A value is trying to be set on a copy of a slice from a DataFrame\n",
      "\n",
      "See the caveats in the documentation: https://pandas.pydata.org/pandas-docs/stable/user_guide/indexing.html#returning-a-view-versus-a-copy\n",
      "  df['period'][:-1] = pd.Series( df['timediff(ms)']).diff(periods= 1 )[1:]\n"
     ]
    },
    {
     "name": "stdout",
     "output_type": "stream",
     "text": [
      "export finished\n",
      "importingC:/Users/User/Desktop/VSCpython/senior_prj/load_reformat/load_oldmeter_20230409.xlsx\n",
      "a\n",
      "b\n"
     ]
    },
    {
     "name": "stderr",
     "output_type": "stream",
     "text": [
      "C:\\Users\\User\\AppData\\Local\\Temp\\ipykernel_16880\\853392660.py:11: SettingWithCopyWarning: \n",
      "A value is trying to be set on a copy of a slice from a DataFrame\n",
      "\n",
      "See the caveats in the documentation: https://pandas.pydata.org/pandas-docs/stable/user_guide/indexing.html#returning-a-view-versus-a-copy\n",
      "  df['period'][:-1] = pd.Series( df['timediff(ms)']).diff(periods= 1 )[1:]\n"
     ]
    },
    {
     "name": "stdout",
     "output_type": "stream",
     "text": [
      "export finished\n",
      "importingC:/Users/User/Desktop/VSCpython/senior_prj/load_reformat/load_oldmeter_20230410.xlsx\n",
      "a\n",
      "b\n",
      "export finished\n"
     ]
    },
    {
     "name": "stderr",
     "output_type": "stream",
     "text": [
      "C:\\Users\\User\\AppData\\Local\\Temp\\ipykernel_16880\\853392660.py:11: SettingWithCopyWarning: \n",
      "A value is trying to be set on a copy of a slice from a DataFrame\n",
      "\n",
      "See the caveats in the documentation: https://pandas.pydata.org/pandas-docs/stable/user_guide/indexing.html#returning-a-view-versus-a-copy\n",
      "  df['period'][:-1] = pd.Series( df['timediff(ms)']).diff(periods= 1 )[1:]\n"
     ]
    },
    {
     "name": "stdout",
     "output_type": "stream",
     "text": [
      "importingC:/Users/User/Desktop/VSCpython/senior_prj/load_reformat/load_oldmeter_20230411.xlsx\n",
      "a\n",
      "b\n"
     ]
    },
    {
     "name": "stderr",
     "output_type": "stream",
     "text": [
      "C:\\Users\\User\\AppData\\Local\\Temp\\ipykernel_16880\\853392660.py:11: SettingWithCopyWarning: \n",
      "A value is trying to be set on a copy of a slice from a DataFrame\n",
      "\n",
      "See the caveats in the documentation: https://pandas.pydata.org/pandas-docs/stable/user_guide/indexing.html#returning-a-view-versus-a-copy\n",
      "  df['period'][:-1] = pd.Series( df['timediff(ms)']).diff(periods= 1 )[1:]\n"
     ]
    },
    {
     "name": "stdout",
     "output_type": "stream",
     "text": [
      "export finished\n",
      "importingC:/Users/User/Desktop/VSCpython/senior_prj/load_reformat/load_oldmeter_20230413.xlsx\n",
      "a\n",
      "b\n"
     ]
    },
    {
     "name": "stderr",
     "output_type": "stream",
     "text": [
      "C:\\Users\\User\\AppData\\Local\\Temp\\ipykernel_16880\\853392660.py:11: SettingWithCopyWarning: \n",
      "A value is trying to be set on a copy of a slice from a DataFrame\n",
      "\n",
      "See the caveats in the documentation: https://pandas.pydata.org/pandas-docs/stable/user_guide/indexing.html#returning-a-view-versus-a-copy\n",
      "  df['period'][:-1] = pd.Series( df['timediff(ms)']).diff(periods= 1 )[1:]\n"
     ]
    },
    {
     "name": "stdout",
     "output_type": "stream",
     "text": [
      "export finished\n",
      "importingC:/Users/User/Desktop/VSCpython/senior_prj/load_reformat/load_oldmeter_20230414.xlsx\n",
      "a\n",
      "b\n"
     ]
    },
    {
     "name": "stderr",
     "output_type": "stream",
     "text": [
      "C:\\Users\\User\\AppData\\Local\\Temp\\ipykernel_16880\\853392660.py:11: SettingWithCopyWarning: \n",
      "A value is trying to be set on a copy of a slice from a DataFrame\n",
      "\n",
      "See the caveats in the documentation: https://pandas.pydata.org/pandas-docs/stable/user_guide/indexing.html#returning-a-view-versus-a-copy\n",
      "  df['period'][:-1] = pd.Series( df['timediff(ms)']).diff(periods= 1 )[1:]\n"
     ]
    },
    {
     "name": "stdout",
     "output_type": "stream",
     "text": [
      "export finished\n",
      "importingC:/Users/User/Desktop/VSCpython/senior_prj/load_reformat/load_oldmeter_20230415.xlsx\n",
      "a\n",
      "b\n"
     ]
    },
    {
     "name": "stderr",
     "output_type": "stream",
     "text": [
      "C:\\Users\\User\\AppData\\Local\\Temp\\ipykernel_16880\\853392660.py:11: SettingWithCopyWarning: \n",
      "A value is trying to be set on a copy of a slice from a DataFrame\n",
      "\n",
      "See the caveats in the documentation: https://pandas.pydata.org/pandas-docs/stable/user_guide/indexing.html#returning-a-view-versus-a-copy\n",
      "  df['period'][:-1] = pd.Series( df['timediff(ms)']).diff(periods= 1 )[1:]\n"
     ]
    },
    {
     "name": "stdout",
     "output_type": "stream",
     "text": [
      "export finished\n",
      "importingC:/Users/User/Desktop/VSCpython/senior_prj/load_reformat/load_oldmeter_20230416.xlsx\n",
      "a\n",
      "b\n",
      "export finished\n"
     ]
    },
    {
     "name": "stderr",
     "output_type": "stream",
     "text": [
      "C:\\Users\\User\\AppData\\Local\\Temp\\ipykernel_16880\\853392660.py:11: SettingWithCopyWarning: \n",
      "A value is trying to be set on a copy of a slice from a DataFrame\n",
      "\n",
      "See the caveats in the documentation: https://pandas.pydata.org/pandas-docs/stable/user_guide/indexing.html#returning-a-view-versus-a-copy\n",
      "  df['period'][:-1] = pd.Series( df['timediff(ms)']).diff(periods= 1 )[1:]\n"
     ]
    },
    {
     "name": "stdout",
     "output_type": "stream",
     "text": [
      "importingC:/Users/User/Desktop/VSCpython/senior_prj/load_reformat/load_oldmeter_20230417.xlsx\n",
      "a\n",
      "b\n"
     ]
    },
    {
     "name": "stderr",
     "output_type": "stream",
     "text": [
      "C:\\Users\\User\\AppData\\Local\\Temp\\ipykernel_16880\\853392660.py:11: SettingWithCopyWarning: \n",
      "A value is trying to be set on a copy of a slice from a DataFrame\n",
      "\n",
      "See the caveats in the documentation: https://pandas.pydata.org/pandas-docs/stable/user_guide/indexing.html#returning-a-view-versus-a-copy\n",
      "  df['period'][:-1] = pd.Series( df['timediff(ms)']).diff(periods= 1 )[1:]\n"
     ]
    },
    {
     "name": "stdout",
     "output_type": "stream",
     "text": [
      "export finished\n",
      "importingC:/Users/User/Desktop/VSCpython/senior_prj/load_reformat/load_oldmeter_20230418.xlsx\n",
      "a\n",
      "b\n",
      "export finished\n"
     ]
    },
    {
     "name": "stderr",
     "output_type": "stream",
     "text": [
      "C:\\Users\\User\\AppData\\Local\\Temp\\ipykernel_16880\\853392660.py:11: SettingWithCopyWarning: \n",
      "A value is trying to be set on a copy of a slice from a DataFrame\n",
      "\n",
      "See the caveats in the documentation: https://pandas.pydata.org/pandas-docs/stable/user_guide/indexing.html#returning-a-view-versus-a-copy\n",
      "  df['period'][:-1] = pd.Series( df['timediff(ms)']).diff(periods= 1 )[1:]\n"
     ]
    },
    {
     "name": "stdout",
     "output_type": "stream",
     "text": [
      "importingC:/Users/User/Desktop/VSCpython/senior_prj/load_reformat/load_oldmeter_20230419.xlsx\n",
      "a\n",
      "b\n"
     ]
    },
    {
     "name": "stderr",
     "output_type": "stream",
     "text": [
      "C:\\Users\\User\\AppData\\Local\\Temp\\ipykernel_16880\\853392660.py:11: SettingWithCopyWarning: \n",
      "A value is trying to be set on a copy of a slice from a DataFrame\n",
      "\n",
      "See the caveats in the documentation: https://pandas.pydata.org/pandas-docs/stable/user_guide/indexing.html#returning-a-view-versus-a-copy\n",
      "  df['period'][:-1] = pd.Series( df['timediff(ms)']).diff(periods= 1 )[1:]\n"
     ]
    },
    {
     "name": "stdout",
     "output_type": "stream",
     "text": [
      "export finished\n",
      "importingC:/Users/User/Desktop/VSCpython/senior_prj/load_reformat/load_oldmeter_20230420.xlsx\n",
      "a\n",
      "b\n",
      "export finished\n"
     ]
    },
    {
     "name": "stderr",
     "output_type": "stream",
     "text": [
      "C:\\Users\\User\\AppData\\Local\\Temp\\ipykernel_16880\\853392660.py:11: SettingWithCopyWarning: \n",
      "A value is trying to be set on a copy of a slice from a DataFrame\n",
      "\n",
      "See the caveats in the documentation: https://pandas.pydata.org/pandas-docs/stable/user_guide/indexing.html#returning-a-view-versus-a-copy\n",
      "  df['period'][:-1] = pd.Series( df['timediff(ms)']).diff(periods= 1 )[1:]\n"
     ]
    },
    {
     "name": "stdout",
     "output_type": "stream",
     "text": [
      "importingC:/Users/User/Desktop/VSCpython/senior_prj/load_reformat/load_oldmeter_20230421.xlsx\n",
      "a\n",
      "b\n"
     ]
    },
    {
     "name": "stderr",
     "output_type": "stream",
     "text": [
      "C:\\Users\\User\\AppData\\Local\\Temp\\ipykernel_16880\\853392660.py:11: SettingWithCopyWarning: \n",
      "A value is trying to be set on a copy of a slice from a DataFrame\n",
      "\n",
      "See the caveats in the documentation: https://pandas.pydata.org/pandas-docs/stable/user_guide/indexing.html#returning-a-view-versus-a-copy\n",
      "  df['period'][:-1] = pd.Series( df['timediff(ms)']).diff(periods= 1 )[1:]\n"
     ]
    },
    {
     "name": "stdout",
     "output_type": "stream",
     "text": [
      "export finished\n",
      "importingC:/Users/User/Desktop/VSCpython/senior_prj/load_reformat/load_oldmeter_20230422.xlsx\n",
      "a\n",
      "b\n"
     ]
    },
    {
     "name": "stderr",
     "output_type": "stream",
     "text": [
      "C:\\Users\\User\\AppData\\Local\\Temp\\ipykernel_16880\\853392660.py:11: SettingWithCopyWarning: \n",
      "A value is trying to be set on a copy of a slice from a DataFrame\n",
      "\n",
      "See the caveats in the documentation: https://pandas.pydata.org/pandas-docs/stable/user_guide/indexing.html#returning-a-view-versus-a-copy\n",
      "  df['period'][:-1] = pd.Series( df['timediff(ms)']).diff(periods= 1 )[1:]\n"
     ]
    },
    {
     "name": "stdout",
     "output_type": "stream",
     "text": [
      "export finished\n",
      "importingC:/Users/User/Desktop/VSCpython/senior_prj/load_reformat/load_oldmeter_20230423.xlsx\n",
      "a\n",
      "b\n"
     ]
    },
    {
     "name": "stderr",
     "output_type": "stream",
     "text": [
      "C:\\Users\\User\\AppData\\Local\\Temp\\ipykernel_16880\\853392660.py:11: SettingWithCopyWarning: \n",
      "A value is trying to be set on a copy of a slice from a DataFrame\n",
      "\n",
      "See the caveats in the documentation: https://pandas.pydata.org/pandas-docs/stable/user_guide/indexing.html#returning-a-view-versus-a-copy\n",
      "  df['period'][:-1] = pd.Series( df['timediff(ms)']).diff(periods= 1 )[1:]\n"
     ]
    },
    {
     "name": "stdout",
     "output_type": "stream",
     "text": [
      "export finished\n",
      "importingC:/Users/User/Desktop/VSCpython/senior_prj/load_reformat/load_oldmeter_20230424.xlsx\n",
      "a\n",
      "b\n"
     ]
    },
    {
     "name": "stderr",
     "output_type": "stream",
     "text": [
      "C:\\Users\\User\\AppData\\Local\\Temp\\ipykernel_16880\\853392660.py:11: SettingWithCopyWarning: \n",
      "A value is trying to be set on a copy of a slice from a DataFrame\n",
      "\n",
      "See the caveats in the documentation: https://pandas.pydata.org/pandas-docs/stable/user_guide/indexing.html#returning-a-view-versus-a-copy\n",
      "  df['period'][:-1] = pd.Series( df['timediff(ms)']).diff(periods= 1 )[1:]\n"
     ]
    },
    {
     "name": "stdout",
     "output_type": "stream",
     "text": [
      "export finished\n",
      "importingC:/Users/User/Desktop/VSCpython/senior_prj/load_reformat/load_oldmeter_20230425.xlsx\n",
      "a\n",
      "b\n"
     ]
    },
    {
     "name": "stderr",
     "output_type": "stream",
     "text": [
      "C:\\Users\\User\\AppData\\Local\\Temp\\ipykernel_16880\\853392660.py:11: SettingWithCopyWarning: \n",
      "A value is trying to be set on a copy of a slice from a DataFrame\n",
      "\n",
      "See the caveats in the documentation: https://pandas.pydata.org/pandas-docs/stable/user_guide/indexing.html#returning-a-view-versus-a-copy\n",
      "  df['period'][:-1] = pd.Series( df['timediff(ms)']).diff(periods= 1 )[1:]\n"
     ]
    },
    {
     "name": "stdout",
     "output_type": "stream",
     "text": [
      "export finished\n",
      "importingC:/Users/User/Desktop/VSCpython/senior_prj/load_reformat/load_oldmeter_20230426.xlsx\n",
      "a\n",
      "b\n"
     ]
    },
    {
     "name": "stderr",
     "output_type": "stream",
     "text": [
      "C:\\Users\\User\\AppData\\Local\\Temp\\ipykernel_16880\\853392660.py:11: SettingWithCopyWarning: \n",
      "A value is trying to be set on a copy of a slice from a DataFrame\n",
      "\n",
      "See the caveats in the documentation: https://pandas.pydata.org/pandas-docs/stable/user_guide/indexing.html#returning-a-view-versus-a-copy\n",
      "  df['period'][:-1] = pd.Series( df['timediff(ms)']).diff(periods= 1 )[1:]\n"
     ]
    },
    {
     "name": "stdout",
     "output_type": "stream",
     "text": [
      "export finished\n",
      "importingC:/Users/User/Desktop/VSCpython/senior_prj/load_reformat/load_oldmeter_20230427.xlsx\n",
      "a\n",
      "b\n"
     ]
    },
    {
     "name": "stderr",
     "output_type": "stream",
     "text": [
      "C:\\Users\\User\\AppData\\Local\\Temp\\ipykernel_16880\\853392660.py:11: SettingWithCopyWarning: \n",
      "A value is trying to be set on a copy of a slice from a DataFrame\n",
      "\n",
      "See the caveats in the documentation: https://pandas.pydata.org/pandas-docs/stable/user_guide/indexing.html#returning-a-view-versus-a-copy\n",
      "  df['period'][:-1] = pd.Series( df['timediff(ms)']).diff(periods= 1 )[1:]\n"
     ]
    },
    {
     "name": "stdout",
     "output_type": "stream",
     "text": [
      "export finished\n",
      "importingC:/Users/User/Desktop/VSCpython/senior_prj/load_reformat/load_oldmeter_20230428.xlsx\n",
      "a\n",
      "b\n"
     ]
    },
    {
     "name": "stderr",
     "output_type": "stream",
     "text": [
      "C:\\Users\\User\\AppData\\Local\\Temp\\ipykernel_16880\\853392660.py:11: SettingWithCopyWarning: \n",
      "A value is trying to be set on a copy of a slice from a DataFrame\n",
      "\n",
      "See the caveats in the documentation: https://pandas.pydata.org/pandas-docs/stable/user_guide/indexing.html#returning-a-view-versus-a-copy\n",
      "  df['period'][:-1] = pd.Series( df['timediff(ms)']).diff(periods= 1 )[1:]\n"
     ]
    },
    {
     "name": "stdout",
     "output_type": "stream",
     "text": [
      "export finished\n",
      "importingC:/Users/User/Desktop/VSCpython/senior_prj/load_reformat/load_oldmeter_20230429.xlsx\n",
      "a\n",
      "b\n"
     ]
    },
    {
     "name": "stderr",
     "output_type": "stream",
     "text": [
      "C:\\Users\\User\\AppData\\Local\\Temp\\ipykernel_16880\\853392660.py:11: SettingWithCopyWarning: \n",
      "A value is trying to be set on a copy of a slice from a DataFrame\n",
      "\n",
      "See the caveats in the documentation: https://pandas.pydata.org/pandas-docs/stable/user_guide/indexing.html#returning-a-view-versus-a-copy\n",
      "  df['period'][:-1] = pd.Series( df['timediff(ms)']).diff(periods= 1 )[1:]\n"
     ]
    },
    {
     "name": "stdout",
     "output_type": "stream",
     "text": [
      "export finished\n",
      "importingC:/Users/User/Desktop/VSCpython/senior_prj/load_reformat/load_oldmeter_20230430.xlsx\n",
      "a\n",
      "b\n"
     ]
    },
    {
     "name": "stderr",
     "output_type": "stream",
     "text": [
      "C:\\Users\\User\\AppData\\Local\\Temp\\ipykernel_16880\\853392660.py:11: SettingWithCopyWarning: \n",
      "A value is trying to be set on a copy of a slice from a DataFrame\n",
      "\n",
      "See the caveats in the documentation: https://pandas.pydata.org/pandas-docs/stable/user_guide/indexing.html#returning-a-view-versus-a-copy\n",
      "  df['period'][:-1] = pd.Series( df['timediff(ms)']).diff(periods= 1 )[1:]\n"
     ]
    },
    {
     "name": "stdout",
     "output_type": "stream",
     "text": [
      "export finished\n",
      "importingC:/Users/User/Desktop/VSCpython/senior_prj/load_reformat/load_oldmeter_20230501.xlsx\n",
      "a\n",
      "b\n",
      "export finished\n"
     ]
    },
    {
     "name": "stderr",
     "output_type": "stream",
     "text": [
      "C:\\Users\\User\\AppData\\Local\\Temp\\ipykernel_16880\\853392660.py:11: SettingWithCopyWarning: \n",
      "A value is trying to be set on a copy of a slice from a DataFrame\n",
      "\n",
      "See the caveats in the documentation: https://pandas.pydata.org/pandas-docs/stable/user_guide/indexing.html#returning-a-view-versus-a-copy\n",
      "  df['period'][:-1] = pd.Series( df['timediff(ms)']).diff(periods= 1 )[1:]\n"
     ]
    },
    {
     "name": "stdout",
     "output_type": "stream",
     "text": [
      "importingC:/Users/User/Desktop/VSCpython/senior_prj/load_reformat/load_oldmeter_20230503.xlsx\n",
      "a\n",
      "b\n"
     ]
    },
    {
     "name": "stderr",
     "output_type": "stream",
     "text": [
      "C:\\Users\\User\\AppData\\Local\\Temp\\ipykernel_16880\\853392660.py:11: SettingWithCopyWarning: \n",
      "A value is trying to be set on a copy of a slice from a DataFrame\n",
      "\n",
      "See the caveats in the documentation: https://pandas.pydata.org/pandas-docs/stable/user_guide/indexing.html#returning-a-view-versus-a-copy\n",
      "  df['period'][:-1] = pd.Series( df['timediff(ms)']).diff(periods= 1 )[1:]\n"
     ]
    },
    {
     "name": "stdout",
     "output_type": "stream",
     "text": [
      "export finished\n",
      "importingC:/Users/User/Desktop/VSCpython/senior_prj/load_reformat/load_oldmeter_20230504.xlsx\n",
      "a\n",
      "b\n"
     ]
    },
    {
     "name": "stderr",
     "output_type": "stream",
     "text": [
      "C:\\Users\\User\\AppData\\Local\\Temp\\ipykernel_16880\\853392660.py:11: SettingWithCopyWarning: \n",
      "A value is trying to be set on a copy of a slice from a DataFrame\n",
      "\n",
      "See the caveats in the documentation: https://pandas.pydata.org/pandas-docs/stable/user_guide/indexing.html#returning-a-view-versus-a-copy\n",
      "  df['period'][:-1] = pd.Series( df['timediff(ms)']).diff(periods= 1 )[1:]\n"
     ]
    },
    {
     "name": "stdout",
     "output_type": "stream",
     "text": [
      "export finished\n",
      "importingC:/Users/User/Desktop/VSCpython/senior_prj/load_reformat/load_oldmeter_20230505.xlsx\n",
      "a\n",
      "b\n"
     ]
    },
    {
     "name": "stderr",
     "output_type": "stream",
     "text": [
      "C:\\Users\\User\\AppData\\Local\\Temp\\ipykernel_16880\\853392660.py:11: SettingWithCopyWarning: \n",
      "A value is trying to be set on a copy of a slice from a DataFrame\n",
      "\n",
      "See the caveats in the documentation: https://pandas.pydata.org/pandas-docs/stable/user_guide/indexing.html#returning-a-view-versus-a-copy\n",
      "  df['period'][:-1] = pd.Series( df['timediff(ms)']).diff(periods= 1 )[1:]\n"
     ]
    },
    {
     "name": "stdout",
     "output_type": "stream",
     "text": [
      "export finished\n"
     ]
    }
   ],
   "source": [
    "folder_path = 'C:/Users/User/Desktop/VSCpython/senior_prj/load_reformat/'\n",
    "files = os.listdir(folder_path) \n",
    "output_path = 'C:/Users/User/Desktop/VSCpython/senior_prj/load_downsampling/'\n",
    "for file in files :\n",
    "    if (file.lower().startswith('load_new')  or  file.lower().startswith('load_old') ) and file.lower().endswith('.xlsx') :\n",
    "        df = pd.read_excel(folder_path  + file )\n",
    "        print('importing' + folder_path  + file )\n",
    "        start_date = file[-13:-5]\n",
    "        start_date = datetime.datetime(int(start_date[:4]),int(start_date[4:6]),int(start_date[6:8]))\n",
    "        df['period'] = 0\n",
    "        df['period'][:-1] = pd.Series( df['timediff(ms)']).diff(periods= 1 )[1:]\n",
    "        df['datetime'] = start_date + (df['timediff(ms)']//900000)*datetime.timedelta(minutes = 15)\n",
    "        print('a')\n",
    "        for e in column[2:32] :\n",
    "            df[e] = df[e] * df['period']\n",
    "        df_return = df.groupby('datetime').sum(column[2:32])\n",
    "        for e in column[2:32] :\n",
    "            df_return[e] = df_return[e]/df_return['period']\n",
    "        print('b')\n",
    "        df_return.drop(['timediff(ms)','period'],axis = 1,inplace = True)\n",
    "        df_return.to_excel(output_path + file )\n",
    "        print('export finished')\n"
   ]
  },
  {
   "cell_type": "code",
   "execution_count": 17,
   "metadata": {},
   "outputs": [
    {
     "data": {
      "text/html": [
       "<div>\n",
       "<style scoped>\n",
       "    .dataframe tbody tr th:only-of-type {\n",
       "        vertical-align: middle;\n",
       "    }\n",
       "\n",
       "    .dataframe tbody tr th {\n",
       "        vertical-align: top;\n",
       "    }\n",
       "\n",
       "    .dataframe thead th {\n",
       "        text-align: right;\n",
       "    }\n",
       "</style>\n",
       "<table border=\"1\" class=\"dataframe\">\n",
       "  <thead>\n",
       "    <tr style=\"text-align: right;\">\n",
       "      <th></th>\n",
       "      <th>timediff(ms)</th>\n",
       "      <th>Ia(A)</th>\n",
       "      <th>Ib(A)</th>\n",
       "      <th>Ic(A)</th>\n",
       "      <th>In(A)</th>\n",
       "      <th>Iavg(A)</th>\n",
       "      <th>Va(V)</th>\n",
       "      <th>Vb(V)</th>\n",
       "      <th>Vc(V)</th>\n",
       "      <th>Vavg(V)</th>\n",
       "      <th>...</th>\n",
       "      <th>VAtot(V)</th>\n",
       "      <th>PFa</th>\n",
       "      <th>PFb</th>\n",
       "      <th>PFc</th>\n",
       "      <th>PFtot</th>\n",
       "      <th>DFa</th>\n",
       "      <th>DFb</th>\n",
       "      <th>DFc</th>\n",
       "      <th>DFtot</th>\n",
       "      <th>period</th>\n",
       "    </tr>\n",
       "    <tr>\n",
       "      <th>datetime</th>\n",
       "      <th></th>\n",
       "      <th></th>\n",
       "      <th></th>\n",
       "      <th></th>\n",
       "      <th></th>\n",
       "      <th></th>\n",
       "      <th></th>\n",
       "      <th></th>\n",
       "      <th></th>\n",
       "      <th></th>\n",
       "      <th></th>\n",
       "      <th></th>\n",
       "      <th></th>\n",
       "      <th></th>\n",
       "      <th></th>\n",
       "      <th></th>\n",
       "      <th></th>\n",
       "      <th></th>\n",
       "      <th></th>\n",
       "      <th></th>\n",
       "      <th></th>\n",
       "    </tr>\n",
       "  </thead>\n",
       "  <tbody>\n",
       "    <tr>\n",
       "      <th>2023-07-10 00:00:00</th>\n",
       "      <td>1.000930e+09</td>\n",
       "      <td>1.142108</td>\n",
       "      <td>0.242802</td>\n",
       "      <td>2.034238</td>\n",
       "      <td>1.891887</td>\n",
       "      <td>1.140508</td>\n",
       "      <td>228.018904</td>\n",
       "      <td>229.772996</td>\n",
       "      <td>227.478812</td>\n",
       "      <td>228.423552</td>\n",
       "      <td>...</td>\n",
       "      <td>0.778950</td>\n",
       "      <td>0.846829</td>\n",
       "      <td>0.322154</td>\n",
       "      <td>0.861057</td>\n",
       "      <td>0.815119</td>\n",
       "      <td>0.879809</td>\n",
       "      <td>0.130042</td>\n",
       "      <td>0.872779</td>\n",
       "      <td>0.627139</td>\n",
       "      <td>900130.0</td>\n",
       "    </tr>\n",
       "    <tr>\n",
       "      <th>2023-07-10 00:15:00</th>\n",
       "      <td>3.002166e+09</td>\n",
       "      <td>1.108847</td>\n",
       "      <td>0.241079</td>\n",
       "      <td>1.945913</td>\n",
       "      <td>1.813039</td>\n",
       "      <td>1.099916</td>\n",
       "      <td>226.349038</td>\n",
       "      <td>228.121286</td>\n",
       "      <td>225.812516</td>\n",
       "      <td>226.760944</td>\n",
       "      <td>...</td>\n",
       "      <td>0.746248</td>\n",
       "      <td>0.845917</td>\n",
       "      <td>0.320843</td>\n",
       "      <td>0.854869</td>\n",
       "      <td>0.814765</td>\n",
       "      <td>0.878945</td>\n",
       "      <td>0.119645</td>\n",
       "      <td>0.867235</td>\n",
       "      <td>0.622242</td>\n",
       "      <td>900000.0</td>\n",
       "    </tr>\n",
       "    <tr>\n",
       "      <th>2023-07-10 00:30:00</th>\n",
       "      <td>5.003569e+09</td>\n",
       "      <td>1.309910</td>\n",
       "      <td>0.240099</td>\n",
       "      <td>1.995888</td>\n",
       "      <td>1.883936</td>\n",
       "      <td>1.182388</td>\n",
       "      <td>226.159669</td>\n",
       "      <td>227.916532</td>\n",
       "      <td>225.599615</td>\n",
       "      <td>226.558616</td>\n",
       "      <td>...</td>\n",
       "      <td>0.800988</td>\n",
       "      <td>0.859374</td>\n",
       "      <td>0.319375</td>\n",
       "      <td>0.858221</td>\n",
       "      <td>0.826001</td>\n",
       "      <td>0.889688</td>\n",
       "      <td>0.122540</td>\n",
       "      <td>0.870419</td>\n",
       "      <td>0.627644</td>\n",
       "      <td>900250.0</td>\n",
       "    </tr>\n",
       "    <tr>\n",
       "      <th>2023-07-10 00:45:00</th>\n",
       "      <td>7.002628e+09</td>\n",
       "      <td>1.107117</td>\n",
       "      <td>0.240000</td>\n",
       "      <td>2.019150</td>\n",
       "      <td>1.894961</td>\n",
       "      <td>1.121843</td>\n",
       "      <td>226.333355</td>\n",
       "      <td>228.090192</td>\n",
       "      <td>225.818169</td>\n",
       "      <td>226.747380</td>\n",
       "      <td>...</td>\n",
       "      <td>0.760358</td>\n",
       "      <td>0.846085</td>\n",
       "      <td>0.319580</td>\n",
       "      <td>0.861713</td>\n",
       "      <td>0.820024</td>\n",
       "      <td>0.879170</td>\n",
       "      <td>0.126197</td>\n",
       "      <td>0.875747</td>\n",
       "      <td>0.626036</td>\n",
       "      <td>899750.0</td>\n",
       "    </tr>\n",
       "    <tr>\n",
       "      <th>2023-07-10 01:00:00</th>\n",
       "      <td>9.006963e+09</td>\n",
       "      <td>1.155965</td>\n",
       "      <td>0.240000</td>\n",
       "      <td>1.974818</td>\n",
       "      <td>1.849258</td>\n",
       "      <td>1.123875</td>\n",
       "      <td>226.774214</td>\n",
       "      <td>228.378812</td>\n",
       "      <td>226.170298</td>\n",
       "      <td>227.107708</td>\n",
       "      <td>...</td>\n",
       "      <td>0.762365</td>\n",
       "      <td>0.848900</td>\n",
       "      <td>0.319676</td>\n",
       "      <td>0.856758</td>\n",
       "      <td>0.818769</td>\n",
       "      <td>0.880201</td>\n",
       "      <td>0.117505</td>\n",
       "      <td>0.867699</td>\n",
       "      <td>0.621890</td>\n",
       "      <td>899870.0</td>\n",
       "    </tr>\n",
       "    <tr>\n",
       "      <th>...</th>\n",
       "      <td>...</td>\n",
       "      <td>...</td>\n",
       "      <td>...</td>\n",
       "      <td>...</td>\n",
       "      <td>...</td>\n",
       "      <td>...</td>\n",
       "      <td>...</td>\n",
       "      <td>...</td>\n",
       "      <td>...</td>\n",
       "      <td>...</td>\n",
       "      <td>...</td>\n",
       "      <td>...</td>\n",
       "      <td>...</td>\n",
       "      <td>...</td>\n",
       "      <td>...</td>\n",
       "      <td>...</td>\n",
       "      <td>...</td>\n",
       "      <td>...</td>\n",
       "      <td>...</td>\n",
       "      <td>...</td>\n",
       "      <td>...</td>\n",
       "    </tr>\n",
       "    <tr>\n",
       "      <th>2023-07-10 22:45:00</th>\n",
       "      <td>1.825691e+11</td>\n",
       "      <td>4.377084</td>\n",
       "      <td>2.091911</td>\n",
       "      <td>6.072533</td>\n",
       "      <td>6.148567</td>\n",
       "      <td>4.180417</td>\n",
       "      <td>226.869159</td>\n",
       "      <td>228.622966</td>\n",
       "      <td>226.367315</td>\n",
       "      <td>227.286418</td>\n",
       "      <td>...</td>\n",
       "      <td>2.846087</td>\n",
       "      <td>0.954474</td>\n",
       "      <td>0.653879</td>\n",
       "      <td>0.986098</td>\n",
       "      <td>0.900425</td>\n",
       "      <td>0.977501</td>\n",
       "      <td>0.664454</td>\n",
       "      <td>0.985512</td>\n",
       "      <td>0.876806</td>\n",
       "      <td>900250.0</td>\n",
       "    </tr>\n",
       "    <tr>\n",
       "      <th>2023-07-10 23:00:00</th>\n",
       "      <td>1.846481e+11</td>\n",
       "      <td>5.090017</td>\n",
       "      <td>2.089278</td>\n",
       "      <td>5.888192</td>\n",
       "      <td>6.102333</td>\n",
       "      <td>4.355792</td>\n",
       "      <td>226.766525</td>\n",
       "      <td>228.471186</td>\n",
       "      <td>226.288236</td>\n",
       "      <td>227.175322</td>\n",
       "      <td>...</td>\n",
       "      <td>2.962642</td>\n",
       "      <td>0.962081</td>\n",
       "      <td>0.655089</td>\n",
       "      <td>0.981503</td>\n",
       "      <td>0.904294</td>\n",
       "      <td>0.981953</td>\n",
       "      <td>0.665392</td>\n",
       "      <td>0.985433</td>\n",
       "      <td>0.879036</td>\n",
       "      <td>900000.0</td>\n",
       "    </tr>\n",
       "    <tr>\n",
       "      <th>2023-07-10 23:15:00</th>\n",
       "      <td>1.865607e+11</td>\n",
       "      <td>4.150461</td>\n",
       "      <td>2.102381</td>\n",
       "      <td>5.832520</td>\n",
       "      <td>4.204676</td>\n",
       "      <td>4.028191</td>\n",
       "      <td>227.286713</td>\n",
       "      <td>229.061364</td>\n",
       "      <td>226.795026</td>\n",
       "      <td>227.714351</td>\n",
       "      <td>...</td>\n",
       "      <td>2.743843</td>\n",
       "      <td>0.945365</td>\n",
       "      <td>0.651989</td>\n",
       "      <td>0.977383</td>\n",
       "      <td>0.876963</td>\n",
       "      <td>0.969675</td>\n",
       "      <td>0.662876</td>\n",
       "      <td>0.979997</td>\n",
       "      <td>0.871826</td>\n",
       "      <td>899750.0</td>\n",
       "    </tr>\n",
       "    <tr>\n",
       "      <th>2023-07-10 23:30:00</th>\n",
       "      <td>1.883003e+11</td>\n",
       "      <td>5.289347</td>\n",
       "      <td>2.107698</td>\n",
       "      <td>8.447354</td>\n",
       "      <td>6.212210</td>\n",
       "      <td>5.281622</td>\n",
       "      <td>227.659756</td>\n",
       "      <td>229.346101</td>\n",
       "      <td>227.223841</td>\n",
       "      <td>228.076434</td>\n",
       "      <td>...</td>\n",
       "      <td>3.607906</td>\n",
       "      <td>0.970755</td>\n",
       "      <td>0.650611</td>\n",
       "      <td>0.965854</td>\n",
       "      <td>0.912138</td>\n",
       "      <td>0.987495</td>\n",
       "      <td>0.661066</td>\n",
       "      <td>0.976412</td>\n",
       "      <td>0.876420</td>\n",
       "      <td>900250.0</td>\n",
       "    </tr>\n",
       "    <tr>\n",
       "      <th>2023-07-10 23:45:00</th>\n",
       "      <td>1.857994e+11</td>\n",
       "      <td>4.321447</td>\n",
       "      <td>2.116812</td>\n",
       "      <td>7.316407</td>\n",
       "      <td>5.641655</td>\n",
       "      <td>4.584883</td>\n",
       "      <td>228.186533</td>\n",
       "      <td>229.949245</td>\n",
       "      <td>227.794701</td>\n",
       "      <td>228.643487</td>\n",
       "      <td>...</td>\n",
       "      <td>3.142689</td>\n",
       "      <td>0.956433</td>\n",
       "      <td>0.650000</td>\n",
       "      <td>0.974900</td>\n",
       "      <td>0.895621</td>\n",
       "      <td>0.978744</td>\n",
       "      <td>0.660026</td>\n",
       "      <td>0.980621</td>\n",
       "      <td>0.873729</td>\n",
       "      <td>877500.0</td>\n",
       "    </tr>\n",
       "  </tbody>\n",
       "</table>\n",
       "<p>96 rows × 31 columns</p>\n",
       "</div>"
      ],
      "text/plain": [
       "                     timediff(ms)     Ia(A)     Ib(A)     Ic(A)     In(A)  \\\n",
       "datetime                                                                    \n",
       "2023-07-10 00:00:00  1.000930e+09  1.142108  0.242802  2.034238  1.891887   \n",
       "2023-07-10 00:15:00  3.002166e+09  1.108847  0.241079  1.945913  1.813039   \n",
       "2023-07-10 00:30:00  5.003569e+09  1.309910  0.240099  1.995888  1.883936   \n",
       "2023-07-10 00:45:00  7.002628e+09  1.107117  0.240000  2.019150  1.894961   \n",
       "2023-07-10 01:00:00  9.006963e+09  1.155965  0.240000  1.974818  1.849258   \n",
       "...                           ...       ...       ...       ...       ...   \n",
       "2023-07-10 22:45:00  1.825691e+11  4.377084  2.091911  6.072533  6.148567   \n",
       "2023-07-10 23:00:00  1.846481e+11  5.090017  2.089278  5.888192  6.102333   \n",
       "2023-07-10 23:15:00  1.865607e+11  4.150461  2.102381  5.832520  4.204676   \n",
       "2023-07-10 23:30:00  1.883003e+11  5.289347  2.107698  8.447354  6.212210   \n",
       "2023-07-10 23:45:00  1.857994e+11  4.321447  2.116812  7.316407  5.641655   \n",
       "\n",
       "                      Iavg(A)       Va(V)       Vb(V)       Vc(V)     Vavg(V)  \\\n",
       "datetime                                                                        \n",
       "2023-07-10 00:00:00  1.140508  228.018904  229.772996  227.478812  228.423552   \n",
       "2023-07-10 00:15:00  1.099916  226.349038  228.121286  225.812516  226.760944   \n",
       "2023-07-10 00:30:00  1.182388  226.159669  227.916532  225.599615  226.558616   \n",
       "2023-07-10 00:45:00  1.121843  226.333355  228.090192  225.818169  226.747380   \n",
       "2023-07-10 01:00:00  1.123875  226.774214  228.378812  226.170298  227.107708   \n",
       "...                       ...         ...         ...         ...         ...   \n",
       "2023-07-10 22:45:00  4.180417  226.869159  228.622966  226.367315  227.286418   \n",
       "2023-07-10 23:00:00  4.355792  226.766525  228.471186  226.288236  227.175322   \n",
       "2023-07-10 23:15:00  4.028191  227.286713  229.061364  226.795026  227.714351   \n",
       "2023-07-10 23:30:00  5.281622  227.659756  229.346101  227.223841  228.076434   \n",
       "2023-07-10 23:45:00  4.584883  228.186533  229.949245  227.794701  228.643487   \n",
       "\n",
       "                     ...  VAtot(V)       PFa       PFb       PFc     PFtot  \\\n",
       "datetime             ...                                                     \n",
       "2023-07-10 00:00:00  ...  0.778950  0.846829  0.322154  0.861057  0.815119   \n",
       "2023-07-10 00:15:00  ...  0.746248  0.845917  0.320843  0.854869  0.814765   \n",
       "2023-07-10 00:30:00  ...  0.800988  0.859374  0.319375  0.858221  0.826001   \n",
       "2023-07-10 00:45:00  ...  0.760358  0.846085  0.319580  0.861713  0.820024   \n",
       "2023-07-10 01:00:00  ...  0.762365  0.848900  0.319676  0.856758  0.818769   \n",
       "...                  ...       ...       ...       ...       ...       ...   \n",
       "2023-07-10 22:45:00  ...  2.846087  0.954474  0.653879  0.986098  0.900425   \n",
       "2023-07-10 23:00:00  ...  2.962642  0.962081  0.655089  0.981503  0.904294   \n",
       "2023-07-10 23:15:00  ...  2.743843  0.945365  0.651989  0.977383  0.876963   \n",
       "2023-07-10 23:30:00  ...  3.607906  0.970755  0.650611  0.965854  0.912138   \n",
       "2023-07-10 23:45:00  ...  3.142689  0.956433  0.650000  0.974900  0.895621   \n",
       "\n",
       "                          DFa       DFb       DFc     DFtot    period  \n",
       "datetime                                                               \n",
       "2023-07-10 00:00:00  0.879809  0.130042  0.872779  0.627139  900130.0  \n",
       "2023-07-10 00:15:00  0.878945  0.119645  0.867235  0.622242  900000.0  \n",
       "2023-07-10 00:30:00  0.889688  0.122540  0.870419  0.627644  900250.0  \n",
       "2023-07-10 00:45:00  0.879170  0.126197  0.875747  0.626036  899750.0  \n",
       "2023-07-10 01:00:00  0.880201  0.117505  0.867699  0.621890  899870.0  \n",
       "...                       ...       ...       ...       ...       ...  \n",
       "2023-07-10 22:45:00  0.977501  0.664454  0.985512  0.876806  900250.0  \n",
       "2023-07-10 23:00:00  0.981953  0.665392  0.985433  0.879036  900000.0  \n",
       "2023-07-10 23:15:00  0.969675  0.662876  0.979997  0.871826  899750.0  \n",
       "2023-07-10 23:30:00  0.987495  0.661066  0.976412  0.876420  900250.0  \n",
       "2023-07-10 23:45:00  0.978744  0.660026  0.980621  0.873729  877500.0  \n",
       "\n",
       "[96 rows x 31 columns]"
      ]
     },
     "execution_count": 17,
     "metadata": {},
     "output_type": "execute_result"
    }
   ],
   "source": [
    "df_return"
   ]
  },
  {
   "cell_type": "code",
   "execution_count": 66,
   "metadata": {},
   "outputs": [
    {
     "ename": "AttributeError",
     "evalue": "'DataFrame' object has no attribute 'to_frame'",
     "output_type": "error",
     "traceback": [
      "\u001b[1;31m---------------------------------------------------------------------------\u001b[0m",
      "\u001b[1;31mAttributeError\u001b[0m                            Traceback (most recent call last)",
      "Cell \u001b[1;32mIn[66], line 1\u001b[0m\n\u001b[1;32m----> 1\u001b[0m df_return\u001b[39m.\u001b[39;49mto_frame()\n",
      "File \u001b[1;32mc:\\Users\\User\\AppData\\Local\\Programs\\Python\\Python39\\lib\\site-packages\\pandas\\core\\generic.py:5487\u001b[0m, in \u001b[0;36mNDFrame.__getattr__\u001b[1;34m(self, name)\u001b[0m\n\u001b[0;32m   5480\u001b[0m \u001b[39mif\u001b[39;00m (\n\u001b[0;32m   5481\u001b[0m     name \u001b[39mnot\u001b[39;00m \u001b[39min\u001b[39;00m \u001b[39mself\u001b[39m\u001b[39m.\u001b[39m_internal_names_set\n\u001b[0;32m   5482\u001b[0m     \u001b[39mand\u001b[39;00m name \u001b[39mnot\u001b[39;00m \u001b[39min\u001b[39;00m \u001b[39mself\u001b[39m\u001b[39m.\u001b[39m_metadata\n\u001b[0;32m   5483\u001b[0m     \u001b[39mand\u001b[39;00m name \u001b[39mnot\u001b[39;00m \u001b[39min\u001b[39;00m \u001b[39mself\u001b[39m\u001b[39m.\u001b[39m_accessors\n\u001b[0;32m   5484\u001b[0m     \u001b[39mand\u001b[39;00m \u001b[39mself\u001b[39m\u001b[39m.\u001b[39m_info_axis\u001b[39m.\u001b[39m_can_hold_identifiers_and_holds_name(name)\n\u001b[0;32m   5485\u001b[0m ):\n\u001b[0;32m   5486\u001b[0m     \u001b[39mreturn\u001b[39;00m \u001b[39mself\u001b[39m[name]\n\u001b[1;32m-> 5487\u001b[0m \u001b[39mreturn\u001b[39;00m \u001b[39mobject\u001b[39;49m\u001b[39m.\u001b[39;49m\u001b[39m__getattribute__\u001b[39;49m(\u001b[39mself\u001b[39;49m, name)\n",
      "\u001b[1;31mAttributeError\u001b[0m: 'DataFrame' object has no attribute 'to_frame'"
     ]
    }
   ],
   "source": [
    "df_return.to_frame()"
   ]
  },
  {
   "cell_type": "code",
   "execution_count": 40,
   "metadata": {},
   "outputs": [
    {
     "name": "stderr",
     "output_type": "stream",
     "text": [
      "C:\\Users\\User\\AppData\\Local\\Temp\\ipykernel_2600\\1231091239.py:2: SettingWithCopyWarning: \n",
      "A value is trying to be set on a copy of a slice from a DataFrame\n",
      "\n",
      "See the caveats in the documentation: https://pandas.pydata.org/pandas-docs/stable/user_guide/indexing.html#returning-a-view-versus-a-copy\n",
      "  df['period'][:-1] = pd.Series( df['timediff(ms)']).diff(periods= 1 )[1:]\n"
     ]
    }
   ],
   "source": [
    "\n",
    "\n",
    "\n",
    "\n",
    "\n"
   ]
  },
  {
   "cell_type": "code",
   "execution_count": 42,
   "metadata": {},
   "outputs": [
    {
     "data": {
      "text/html": [
       "<div>\n",
       "<style scoped>\n",
       "    .dataframe tbody tr th:only-of-type {\n",
       "        vertical-align: middle;\n",
       "    }\n",
       "\n",
       "    .dataframe tbody tr th {\n",
       "        vertical-align: top;\n",
       "    }\n",
       "\n",
       "    .dataframe thead th {\n",
       "        text-align: right;\n",
       "    }\n",
       "</style>\n",
       "<table border=\"1\" class=\"dataframe\">\n",
       "  <thead>\n",
       "    <tr style=\"text-align: right;\">\n",
       "      <th></th>\n",
       "      <th>timediff(ms)</th>\n",
       "      <th>Ia(A)</th>\n",
       "      <th>Ib(A)</th>\n",
       "      <th>Ic(A)</th>\n",
       "      <th>In(A)</th>\n",
       "      <th>Iavg(A)</th>\n",
       "      <th>Va(V)</th>\n",
       "      <th>Vb(V)</th>\n",
       "      <th>Vc(V)</th>\n",
       "      <th>Vavg(V)</th>\n",
       "      <th>...</th>\n",
       "      <th>VAtot(V)</th>\n",
       "      <th>PFa</th>\n",
       "      <th>PFb</th>\n",
       "      <th>PFc</th>\n",
       "      <th>PFtot</th>\n",
       "      <th>DFa</th>\n",
       "      <th>DFb</th>\n",
       "      <th>DFc</th>\n",
       "      <th>DFtot</th>\n",
       "      <th>period</th>\n",
       "    </tr>\n",
       "    <tr>\n",
       "      <th>group</th>\n",
       "      <th></th>\n",
       "      <th></th>\n",
       "      <th></th>\n",
       "      <th></th>\n",
       "      <th></th>\n",
       "      <th></th>\n",
       "      <th></th>\n",
       "      <th></th>\n",
       "      <th></th>\n",
       "      <th></th>\n",
       "      <th></th>\n",
       "      <th></th>\n",
       "      <th></th>\n",
       "      <th></th>\n",
       "      <th></th>\n",
       "      <th></th>\n",
       "      <th></th>\n",
       "      <th></th>\n",
       "      <th></th>\n",
       "      <th></th>\n",
       "      <th></th>\n",
       "    </tr>\n",
       "  </thead>\n",
       "  <tbody>\n",
       "    <tr>\n",
       "      <th>0.0</th>\n",
       "      <td>675.463233</td>\n",
       "      <td>1.512821</td>\n",
       "      <td>2.066524</td>\n",
       "      <td>1.589254</td>\n",
       "      <td>0.0</td>\n",
       "      <td>0.0</td>\n",
       "      <td>0.0</td>\n",
       "      <td>0.0</td>\n",
       "      <td>0.0</td>\n",
       "      <td>0.0</td>\n",
       "      <td>...</td>\n",
       "      <td>0.0</td>\n",
       "      <td>0.0</td>\n",
       "      <td>0.0</td>\n",
       "      <td>0.0</td>\n",
       "      <td>0.0</td>\n",
       "      <td>0.0</td>\n",
       "      <td>0.0</td>\n",
       "      <td>0.0</td>\n",
       "      <td>0.0</td>\n",
       "      <td>1.000767</td>\n",
       "    </tr>\n",
       "    <tr>\n",
       "      <th>1.0</th>\n",
       "      <td>2023.460022</td>\n",
       "      <td>1.525083</td>\n",
       "      <td>2.192855</td>\n",
       "      <td>1.663594</td>\n",
       "      <td>0.0</td>\n",
       "      <td>0.0</td>\n",
       "      <td>0.0</td>\n",
       "      <td>0.0</td>\n",
       "      <td>0.0</td>\n",
       "      <td>0.0</td>\n",
       "      <td>...</td>\n",
       "      <td>0.0</td>\n",
       "      <td>0.0</td>\n",
       "      <td>0.0</td>\n",
       "      <td>0.0</td>\n",
       "      <td>0.0</td>\n",
       "      <td>0.0</td>\n",
       "      <td>0.0</td>\n",
       "      <td>0.0</td>\n",
       "      <td>0.0</td>\n",
       "      <td>0.999233</td>\n",
       "    </tr>\n",
       "    <tr>\n",
       "      <th>2.0</th>\n",
       "      <td>3370.117111</td>\n",
       "      <td>1.540576</td>\n",
       "      <td>2.239093</td>\n",
       "      <td>1.679201</td>\n",
       "      <td>0.0</td>\n",
       "      <td>0.0</td>\n",
       "      <td>0.0</td>\n",
       "      <td>0.0</td>\n",
       "      <td>0.0</td>\n",
       "      <td>0.0</td>\n",
       "      <td>...</td>\n",
       "      <td>0.0</td>\n",
       "      <td>0.0</td>\n",
       "      <td>0.0</td>\n",
       "      <td>0.0</td>\n",
       "      <td>0.0</td>\n",
       "      <td>0.0</td>\n",
       "      <td>0.0</td>\n",
       "      <td>0.0</td>\n",
       "      <td>0.0</td>\n",
       "      <td>1.000622</td>\n",
       "    </tr>\n",
       "    <tr>\n",
       "      <th>3.0</th>\n",
       "      <td>4725.329333</td>\n",
       "      <td>1.540495</td>\n",
       "      <td>1.822306</td>\n",
       "      <td>1.597928</td>\n",
       "      <td>0.0</td>\n",
       "      <td>0.0</td>\n",
       "      <td>0.0</td>\n",
       "      <td>0.0</td>\n",
       "      <td>0.0</td>\n",
       "      <td>0.0</td>\n",
       "      <td>...</td>\n",
       "      <td>0.0</td>\n",
       "      <td>0.0</td>\n",
       "      <td>0.0</td>\n",
       "      <td>0.0</td>\n",
       "      <td>0.0</td>\n",
       "      <td>0.0</td>\n",
       "      <td>0.0</td>\n",
       "      <td>0.0</td>\n",
       "      <td>0.0</td>\n",
       "      <td>1.000000</td>\n",
       "    </tr>\n",
       "    <tr>\n",
       "      <th>4.0</th>\n",
       "      <td>6075.320722</td>\n",
       "      <td>1.529372</td>\n",
       "      <td>1.543957</td>\n",
       "      <td>1.431489</td>\n",
       "      <td>0.0</td>\n",
       "      <td>0.0</td>\n",
       "      <td>0.0</td>\n",
       "      <td>0.0</td>\n",
       "      <td>0.0</td>\n",
       "      <td>0.0</td>\n",
       "      <td>...</td>\n",
       "      <td>0.0</td>\n",
       "      <td>0.0</td>\n",
       "      <td>0.0</td>\n",
       "      <td>0.0</td>\n",
       "      <td>0.0</td>\n",
       "      <td>0.0</td>\n",
       "      <td>0.0</td>\n",
       "      <td>0.0</td>\n",
       "      <td>0.0</td>\n",
       "      <td>1.000000</td>\n",
       "    </tr>\n",
       "    <tr>\n",
       "      <th>...</th>\n",
       "      <td>...</td>\n",
       "      <td>...</td>\n",
       "      <td>...</td>\n",
       "      <td>...</td>\n",
       "      <td>...</td>\n",
       "      <td>...</td>\n",
       "      <td>...</td>\n",
       "      <td>...</td>\n",
       "      <td>...</td>\n",
       "      <td>...</td>\n",
       "      <td>...</td>\n",
       "      <td>...</td>\n",
       "      <td>...</td>\n",
       "      <td>...</td>\n",
       "      <td>...</td>\n",
       "      <td>...</td>\n",
       "      <td>...</td>\n",
       "      <td>...</td>\n",
       "      <td>...</td>\n",
       "      <td>...</td>\n",
       "      <td>...</td>\n",
       "    </tr>\n",
       "    <tr>\n",
       "      <th>91.0</th>\n",
       "      <td>123524.519467</td>\n",
       "      <td>0.333451</td>\n",
       "      <td>1.875337</td>\n",
       "      <td>1.011844</td>\n",
       "      <td>0.0</td>\n",
       "      <td>0.0</td>\n",
       "      <td>0.0</td>\n",
       "      <td>0.0</td>\n",
       "      <td>0.0</td>\n",
       "      <td>0.0</td>\n",
       "      <td>...</td>\n",
       "      <td>0.0</td>\n",
       "      <td>0.0</td>\n",
       "      <td>0.0</td>\n",
       "      <td>0.0</td>\n",
       "      <td>0.0</td>\n",
       "      <td>0.0</td>\n",
       "      <td>0.0</td>\n",
       "      <td>0.0</td>\n",
       "      <td>0.0</td>\n",
       "      <td>1.000000</td>\n",
       "    </tr>\n",
       "    <tr>\n",
       "      <th>92.0</th>\n",
       "      <td>124874.515200</td>\n",
       "      <td>0.351867</td>\n",
       "      <td>1.920437</td>\n",
       "      <td>1.092241</td>\n",
       "      <td>0.0</td>\n",
       "      <td>0.0</td>\n",
       "      <td>0.0</td>\n",
       "      <td>0.0</td>\n",
       "      <td>0.0</td>\n",
       "      <td>0.0</td>\n",
       "      <td>...</td>\n",
       "      <td>0.0</td>\n",
       "      <td>0.0</td>\n",
       "      <td>0.0</td>\n",
       "      <td>0.0</td>\n",
       "      <td>0.0</td>\n",
       "      <td>0.0</td>\n",
       "      <td>0.0</td>\n",
       "      <td>0.0</td>\n",
       "      <td>0.0</td>\n",
       "      <td>1.000000</td>\n",
       "    </tr>\n",
       "    <tr>\n",
       "      <th>93.0</th>\n",
       "      <td>126224.511067</td>\n",
       "      <td>0.329201</td>\n",
       "      <td>2.268657</td>\n",
       "      <td>1.144920</td>\n",
       "      <td>0.0</td>\n",
       "      <td>0.0</td>\n",
       "      <td>0.0</td>\n",
       "      <td>0.0</td>\n",
       "      <td>0.0</td>\n",
       "      <td>0.0</td>\n",
       "      <td>...</td>\n",
       "      <td>0.0</td>\n",
       "      <td>0.0</td>\n",
       "      <td>0.0</td>\n",
       "      <td>0.0</td>\n",
       "      <td>0.0</td>\n",
       "      <td>0.0</td>\n",
       "      <td>0.0</td>\n",
       "      <td>0.0</td>\n",
       "      <td>0.0</td>\n",
       "      <td>1.000000</td>\n",
       "    </tr>\n",
       "    <tr>\n",
       "      <th>94.0</th>\n",
       "      <td>127574.506456</td>\n",
       "      <td>0.331227</td>\n",
       "      <td>1.924234</td>\n",
       "      <td>1.090269</td>\n",
       "      <td>0.0</td>\n",
       "      <td>0.0</td>\n",
       "      <td>0.0</td>\n",
       "      <td>0.0</td>\n",
       "      <td>0.0</td>\n",
       "      <td>0.0</td>\n",
       "      <td>...</td>\n",
       "      <td>0.0</td>\n",
       "      <td>0.0</td>\n",
       "      <td>0.0</td>\n",
       "      <td>0.0</td>\n",
       "      <td>0.0</td>\n",
       "      <td>0.0</td>\n",
       "      <td>0.0</td>\n",
       "      <td>0.0</td>\n",
       "      <td>0.0</td>\n",
       "      <td>1.000000</td>\n",
       "    </tr>\n",
       "    <tr>\n",
       "      <th>95.0</th>\n",
       "      <td>126524.740589</td>\n",
       "      <td>0.332253</td>\n",
       "      <td>1.856360</td>\n",
       "      <td>0.999430</td>\n",
       "      <td>0.0</td>\n",
       "      <td>0.0</td>\n",
       "      <td>0.0</td>\n",
       "      <td>0.0</td>\n",
       "      <td>0.0</td>\n",
       "      <td>0.0</td>\n",
       "      <td>...</td>\n",
       "      <td>0.0</td>\n",
       "      <td>0.0</td>\n",
       "      <td>0.0</td>\n",
       "      <td>0.0</td>\n",
       "      <td>0.0</td>\n",
       "      <td>0.0</td>\n",
       "      <td>0.0</td>\n",
       "      <td>0.0</td>\n",
       "      <td>0.0</td>\n",
       "      <td>0.980689</td>\n",
       "    </tr>\n",
       "  </tbody>\n",
       "</table>\n",
       "<p>96 rows × 31 columns</p>\n",
       "</div>"
      ],
      "text/plain": [
       "        timediff(ms)     Ia(A)     Ib(A)     Ic(A)  In(A)  Iavg(A)  Va(V)  \\\n",
       "group                                                                       \n",
       "0.0       675.463233  1.512821  2.066524  1.589254    0.0      0.0    0.0   \n",
       "1.0      2023.460022  1.525083  2.192855  1.663594    0.0      0.0    0.0   \n",
       "2.0      3370.117111  1.540576  2.239093  1.679201    0.0      0.0    0.0   \n",
       "3.0      4725.329333  1.540495  1.822306  1.597928    0.0      0.0    0.0   \n",
       "4.0      6075.320722  1.529372  1.543957  1.431489    0.0      0.0    0.0   \n",
       "...              ...       ...       ...       ...    ...      ...    ...   \n",
       "91.0   123524.519467  0.333451  1.875337  1.011844    0.0      0.0    0.0   \n",
       "92.0   124874.515200  0.351867  1.920437  1.092241    0.0      0.0    0.0   \n",
       "93.0   126224.511067  0.329201  2.268657  1.144920    0.0      0.0    0.0   \n",
       "94.0   127574.506456  0.331227  1.924234  1.090269    0.0      0.0    0.0   \n",
       "95.0   126524.740589  0.332253  1.856360  0.999430    0.0      0.0    0.0   \n",
       "\n",
       "       Vb(V)  Vc(V)  Vavg(V)  ...  VAtot(V)  PFa  PFb  PFc  PFtot  DFa  DFb  \\\n",
       "group                         ...                                             \n",
       "0.0      0.0    0.0      0.0  ...       0.0  0.0  0.0  0.0    0.0  0.0  0.0   \n",
       "1.0      0.0    0.0      0.0  ...       0.0  0.0  0.0  0.0    0.0  0.0  0.0   \n",
       "2.0      0.0    0.0      0.0  ...       0.0  0.0  0.0  0.0    0.0  0.0  0.0   \n",
       "3.0      0.0    0.0      0.0  ...       0.0  0.0  0.0  0.0    0.0  0.0  0.0   \n",
       "4.0      0.0    0.0      0.0  ...       0.0  0.0  0.0  0.0    0.0  0.0  0.0   \n",
       "...      ...    ...      ...  ...       ...  ...  ...  ...    ...  ...  ...   \n",
       "91.0     0.0    0.0      0.0  ...       0.0  0.0  0.0  0.0    0.0  0.0  0.0   \n",
       "92.0     0.0    0.0      0.0  ...       0.0  0.0  0.0  0.0    0.0  0.0  0.0   \n",
       "93.0     0.0    0.0      0.0  ...       0.0  0.0  0.0  0.0    0.0  0.0  0.0   \n",
       "94.0     0.0    0.0      0.0  ...       0.0  0.0  0.0  0.0    0.0  0.0  0.0   \n",
       "95.0     0.0    0.0      0.0  ...       0.0  0.0  0.0  0.0    0.0  0.0  0.0   \n",
       "\n",
       "       DFc  DFtot    period  \n",
       "group                        \n",
       "0.0    0.0    0.0  1.000767  \n",
       "1.0    0.0    0.0  0.999233  \n",
       "2.0    0.0    0.0  1.000622  \n",
       "3.0    0.0    0.0  1.000000  \n",
       "4.0    0.0    0.0  1.000000  \n",
       "...    ...    ...       ...  \n",
       "91.0   0.0    0.0  1.000000  \n",
       "92.0   0.0    0.0  1.000000  \n",
       "93.0   0.0    0.0  1.000000  \n",
       "94.0   0.0    0.0  1.000000  \n",
       "95.0   0.0    0.0  0.980689  \n",
       "\n",
       "[96 rows x 31 columns]"
      ]
     },
     "execution_count": 42,
     "metadata": {},
     "output_type": "execute_result"
    }
   ],
   "source": [
    "df.groupby('group').sum(column[2:])/900000"
   ]
  },
  {
   "cell_type": "code",
   "execution_count": null,
   "metadata": {},
   "outputs": [],
   "source": []
  },
  {
   "cell_type": "code",
   "execution_count": 41,
   "metadata": {},
   "outputs": [
    {
     "data": {
      "text/html": [
       "<div>\n",
       "<style scoped>\n",
       "    .dataframe tbody tr th:only-of-type {\n",
       "        vertical-align: middle;\n",
       "    }\n",
       "\n",
       "    .dataframe tbody tr th {\n",
       "        vertical-align: top;\n",
       "    }\n",
       "\n",
       "    .dataframe thead th {\n",
       "        text-align: right;\n",
       "    }\n",
       "</style>\n",
       "<table border=\"1\" class=\"dataframe\">\n",
       "  <thead>\n",
       "    <tr style=\"text-align: right;\">\n",
       "      <th></th>\n",
       "      <th>datetime</th>\n",
       "      <th>timediff(ms)</th>\n",
       "      <th>Ia(A)</th>\n",
       "      <th>Ib(A)</th>\n",
       "      <th>Ic(A)</th>\n",
       "      <th>In(A)</th>\n",
       "      <th>Iavg(A)</th>\n",
       "      <th>Va(V)</th>\n",
       "      <th>Vb(V)</th>\n",
       "      <th>Vc(V)</th>\n",
       "      <th>...</th>\n",
       "      <th>PFa</th>\n",
       "      <th>PFb</th>\n",
       "      <th>PFc</th>\n",
       "      <th>PFtot</th>\n",
       "      <th>DFa</th>\n",
       "      <th>DFb</th>\n",
       "      <th>DFc</th>\n",
       "      <th>DFtot</th>\n",
       "      <th>period</th>\n",
       "      <th>group</th>\n",
       "    </tr>\n",
       "  </thead>\n",
       "  <tbody>\n",
       "    <tr>\n",
       "      <th>0</th>\n",
       "      <td>2023-03-01 00:00:00.000</td>\n",
       "      <td>0.0</td>\n",
       "      <td>936.2</td>\n",
       "      <td>1190.4</td>\n",
       "      <td>954.8</td>\n",
       "      <td>NaN</td>\n",
       "      <td>NaN</td>\n",
       "      <td>NaN</td>\n",
       "      <td>NaN</td>\n",
       "      <td>NaN</td>\n",
       "      <td>...</td>\n",
       "      <td>NaN</td>\n",
       "      <td>NaN</td>\n",
       "      <td>NaN</td>\n",
       "      <td>NaN</td>\n",
       "      <td>NaN</td>\n",
       "      <td>NaN</td>\n",
       "      <td>NaN</td>\n",
       "      <td>NaN</td>\n",
       "      <td>620.0</td>\n",
       "      <td>0.0</td>\n",
       "    </tr>\n",
       "    <tr>\n",
       "      <th>1</th>\n",
       "      <td>2023-03-01 00:00:00.620</td>\n",
       "      <td>620.0</td>\n",
       "      <td>951.3</td>\n",
       "      <td>1209.6</td>\n",
       "      <td>970.2</td>\n",
       "      <td>NaN</td>\n",
       "      <td>NaN</td>\n",
       "      <td>NaN</td>\n",
       "      <td>NaN</td>\n",
       "      <td>NaN</td>\n",
       "      <td>...</td>\n",
       "      <td>NaN</td>\n",
       "      <td>NaN</td>\n",
       "      <td>NaN</td>\n",
       "      <td>NaN</td>\n",
       "      <td>NaN</td>\n",
       "      <td>NaN</td>\n",
       "      <td>NaN</td>\n",
       "      <td>NaN</td>\n",
       "      <td>630.0</td>\n",
       "      <td>0.0</td>\n",
       "    </tr>\n",
       "    <tr>\n",
       "      <th>2</th>\n",
       "      <td>2023-03-01 00:00:01.250</td>\n",
       "      <td>1250.0</td>\n",
       "      <td>1132.5</td>\n",
       "      <td>1440.0</td>\n",
       "      <td>1155.0</td>\n",
       "      <td>NaN</td>\n",
       "      <td>NaN</td>\n",
       "      <td>NaN</td>\n",
       "      <td>NaN</td>\n",
       "      <td>NaN</td>\n",
       "      <td>...</td>\n",
       "      <td>NaN</td>\n",
       "      <td>NaN</td>\n",
       "      <td>NaN</td>\n",
       "      <td>NaN</td>\n",
       "      <td>NaN</td>\n",
       "      <td>NaN</td>\n",
       "      <td>NaN</td>\n",
       "      <td>NaN</td>\n",
       "      <td>750.0</td>\n",
       "      <td>0.0</td>\n",
       "    </tr>\n",
       "    <tr>\n",
       "      <th>3</th>\n",
       "      <td>2023-03-01 00:00:02.000</td>\n",
       "      <td>2000.0</td>\n",
       "      <td>1041.9</td>\n",
       "      <td>1324.8</td>\n",
       "      <td>1076.4</td>\n",
       "      <td>NaN</td>\n",
       "      <td>NaN</td>\n",
       "      <td>NaN</td>\n",
       "      <td>NaN</td>\n",
       "      <td>NaN</td>\n",
       "      <td>...</td>\n",
       "      <td>NaN</td>\n",
       "      <td>NaN</td>\n",
       "      <td>NaN</td>\n",
       "      <td>NaN</td>\n",
       "      <td>NaN</td>\n",
       "      <td>NaN</td>\n",
       "      <td>NaN</td>\n",
       "      <td>NaN</td>\n",
       "      <td>690.0</td>\n",
       "      <td>0.0</td>\n",
       "    </tr>\n",
       "    <tr>\n",
       "      <th>4</th>\n",
       "      <td>2023-03-01 00:00:02.690</td>\n",
       "      <td>2690.0</td>\n",
       "      <td>936.2</td>\n",
       "      <td>1190.4</td>\n",
       "      <td>967.2</td>\n",
       "      <td>NaN</td>\n",
       "      <td>NaN</td>\n",
       "      <td>NaN</td>\n",
       "      <td>NaN</td>\n",
       "      <td>NaN</td>\n",
       "      <td>...</td>\n",
       "      <td>NaN</td>\n",
       "      <td>NaN</td>\n",
       "      <td>NaN</td>\n",
       "      <td>NaN</td>\n",
       "      <td>NaN</td>\n",
       "      <td>NaN</td>\n",
       "      <td>NaN</td>\n",
       "      <td>NaN</td>\n",
       "      <td>620.0</td>\n",
       "      <td>0.0</td>\n",
       "    </tr>\n",
       "    <tr>\n",
       "      <th>...</th>\n",
       "      <td>...</td>\n",
       "      <td>...</td>\n",
       "      <td>...</td>\n",
       "      <td>...</td>\n",
       "      <td>...</td>\n",
       "      <td>...</td>\n",
       "      <td>...</td>\n",
       "      <td>...</td>\n",
       "      <td>...</td>\n",
       "      <td>...</td>\n",
       "      <td>...</td>\n",
       "      <td>...</td>\n",
       "      <td>...</td>\n",
       "      <td>...</td>\n",
       "      <td>...</td>\n",
       "      <td>...</td>\n",
       "      <td>...</td>\n",
       "      <td>...</td>\n",
       "      <td>...</td>\n",
       "      <td>...</td>\n",
       "      <td>...</td>\n",
       "    </tr>\n",
       "    <tr>\n",
       "      <th>129536</th>\n",
       "      <td>2023-03-01 23:59:40.000</td>\n",
       "      <td>86380000.0</td>\n",
       "      <td>213.9</td>\n",
       "      <td>1221.3</td>\n",
       "      <td>669.3</td>\n",
       "      <td>NaN</td>\n",
       "      <td>NaN</td>\n",
       "      <td>NaN</td>\n",
       "      <td>NaN</td>\n",
       "      <td>NaN</td>\n",
       "      <td>...</td>\n",
       "      <td>NaN</td>\n",
       "      <td>NaN</td>\n",
       "      <td>NaN</td>\n",
       "      <td>NaN</td>\n",
       "      <td>NaN</td>\n",
       "      <td>NaN</td>\n",
       "      <td>NaN</td>\n",
       "      <td>NaN</td>\n",
       "      <td>690.0</td>\n",
       "      <td>95.0</td>\n",
       "    </tr>\n",
       "    <tr>\n",
       "      <th>129537</th>\n",
       "      <td>2023-03-01 23:59:40.690</td>\n",
       "      <td>86380690.0</td>\n",
       "      <td>192.2</td>\n",
       "      <td>1097.4</td>\n",
       "      <td>601.4</td>\n",
       "      <td>NaN</td>\n",
       "      <td>NaN</td>\n",
       "      <td>NaN</td>\n",
       "      <td>NaN</td>\n",
       "      <td>NaN</td>\n",
       "      <td>...</td>\n",
       "      <td>NaN</td>\n",
       "      <td>NaN</td>\n",
       "      <td>NaN</td>\n",
       "      <td>NaN</td>\n",
       "      <td>NaN</td>\n",
       "      <td>NaN</td>\n",
       "      <td>NaN</td>\n",
       "      <td>NaN</td>\n",
       "      <td>620.0</td>\n",
       "      <td>95.0</td>\n",
       "    </tr>\n",
       "    <tr>\n",
       "      <th>129538</th>\n",
       "      <td>2023-03-01 23:59:41.310</td>\n",
       "      <td>86381310.0</td>\n",
       "      <td>213.9</td>\n",
       "      <td>1221.3</td>\n",
       "      <td>669.3</td>\n",
       "      <td>NaN</td>\n",
       "      <td>NaN</td>\n",
       "      <td>NaN</td>\n",
       "      <td>NaN</td>\n",
       "      <td>NaN</td>\n",
       "      <td>...</td>\n",
       "      <td>NaN</td>\n",
       "      <td>NaN</td>\n",
       "      <td>NaN</td>\n",
       "      <td>NaN</td>\n",
       "      <td>NaN</td>\n",
       "      <td>NaN</td>\n",
       "      <td>NaN</td>\n",
       "      <td>NaN</td>\n",
       "      <td>690.0</td>\n",
       "      <td>95.0</td>\n",
       "    </tr>\n",
       "    <tr>\n",
       "      <th>129539</th>\n",
       "      <td>2023-03-01 23:59:42.000</td>\n",
       "      <td>86382000.0</td>\n",
       "      <td>192.2</td>\n",
       "      <td>1097.4</td>\n",
       "      <td>601.4</td>\n",
       "      <td>NaN</td>\n",
       "      <td>NaN</td>\n",
       "      <td>NaN</td>\n",
       "      <td>NaN</td>\n",
       "      <td>NaN</td>\n",
       "      <td>...</td>\n",
       "      <td>NaN</td>\n",
       "      <td>NaN</td>\n",
       "      <td>NaN</td>\n",
       "      <td>NaN</td>\n",
       "      <td>NaN</td>\n",
       "      <td>NaN</td>\n",
       "      <td>NaN</td>\n",
       "      <td>NaN</td>\n",
       "      <td>620.0</td>\n",
       "      <td>95.0</td>\n",
       "    </tr>\n",
       "    <tr>\n",
       "      <th>129540</th>\n",
       "      <td>2023-03-01 23:59:42.620</td>\n",
       "      <td>86382620.0</td>\n",
       "      <td>0.0</td>\n",
       "      <td>0.0</td>\n",
       "      <td>0.0</td>\n",
       "      <td>NaN</td>\n",
       "      <td>NaN</td>\n",
       "      <td>NaN</td>\n",
       "      <td>NaN</td>\n",
       "      <td>NaN</td>\n",
       "      <td>...</td>\n",
       "      <td>NaN</td>\n",
       "      <td>NaN</td>\n",
       "      <td>NaN</td>\n",
       "      <td>NaN</td>\n",
       "      <td>NaN</td>\n",
       "      <td>NaN</td>\n",
       "      <td>NaN</td>\n",
       "      <td>NaN</td>\n",
       "      <td>0.0</td>\n",
       "      <td>95.0</td>\n",
       "    </tr>\n",
       "  </tbody>\n",
       "</table>\n",
       "<p>129541 rows × 33 columns</p>\n",
       "</div>"
      ],
      "text/plain": [
       "                      datetime  timediff(ms)   Ia(A)   Ib(A)   Ic(A)  In(A)  \\\n",
       "0      2023-03-01 00:00:00.000           0.0   936.2  1190.4   954.8    NaN   \n",
       "1      2023-03-01 00:00:00.620         620.0   951.3  1209.6   970.2    NaN   \n",
       "2      2023-03-01 00:00:01.250        1250.0  1132.5  1440.0  1155.0    NaN   \n",
       "3      2023-03-01 00:00:02.000        2000.0  1041.9  1324.8  1076.4    NaN   \n",
       "4      2023-03-01 00:00:02.690        2690.0   936.2  1190.4   967.2    NaN   \n",
       "...                        ...           ...     ...     ...     ...    ...   \n",
       "129536 2023-03-01 23:59:40.000    86380000.0   213.9  1221.3   669.3    NaN   \n",
       "129537 2023-03-01 23:59:40.690    86380690.0   192.2  1097.4   601.4    NaN   \n",
       "129538 2023-03-01 23:59:41.310    86381310.0   213.9  1221.3   669.3    NaN   \n",
       "129539 2023-03-01 23:59:42.000    86382000.0   192.2  1097.4   601.4    NaN   \n",
       "129540 2023-03-01 23:59:42.620    86382620.0     0.0     0.0     0.0    NaN   \n",
       "\n",
       "        Iavg(A)  Va(V)  Vb(V)  Vc(V)  ...  PFa  PFb  PFc  PFtot  DFa  DFb  \\\n",
       "0           NaN    NaN    NaN    NaN  ...  NaN  NaN  NaN    NaN  NaN  NaN   \n",
       "1           NaN    NaN    NaN    NaN  ...  NaN  NaN  NaN    NaN  NaN  NaN   \n",
       "2           NaN    NaN    NaN    NaN  ...  NaN  NaN  NaN    NaN  NaN  NaN   \n",
       "3           NaN    NaN    NaN    NaN  ...  NaN  NaN  NaN    NaN  NaN  NaN   \n",
       "4           NaN    NaN    NaN    NaN  ...  NaN  NaN  NaN    NaN  NaN  NaN   \n",
       "...         ...    ...    ...    ...  ...  ...  ...  ...    ...  ...  ...   \n",
       "129536      NaN    NaN    NaN    NaN  ...  NaN  NaN  NaN    NaN  NaN  NaN   \n",
       "129537      NaN    NaN    NaN    NaN  ...  NaN  NaN  NaN    NaN  NaN  NaN   \n",
       "129538      NaN    NaN    NaN    NaN  ...  NaN  NaN  NaN    NaN  NaN  NaN   \n",
       "129539      NaN    NaN    NaN    NaN  ...  NaN  NaN  NaN    NaN  NaN  NaN   \n",
       "129540      NaN    NaN    NaN    NaN  ...  NaN  NaN  NaN    NaN  NaN  NaN   \n",
       "\n",
       "        DFc  DFtot  period  group  \n",
       "0       NaN    NaN   620.0    0.0  \n",
       "1       NaN    NaN   630.0    0.0  \n",
       "2       NaN    NaN   750.0    0.0  \n",
       "3       NaN    NaN   690.0    0.0  \n",
       "4       NaN    NaN   620.0    0.0  \n",
       "...     ...    ...     ...    ...  \n",
       "129536  NaN    NaN   690.0   95.0  \n",
       "129537  NaN    NaN   620.0   95.0  \n",
       "129538  NaN    NaN   690.0   95.0  \n",
       "129539  NaN    NaN   620.0   95.0  \n",
       "129540  NaN    NaN     0.0   95.0  \n",
       "\n",
       "[129541 rows x 33 columns]"
      ]
     },
     "execution_count": 41,
     "metadata": {},
     "output_type": "execute_result"
    }
   ],
   "source": [
    "df"
   ]
  },
  {
   "cell_type": "code",
   "execution_count": 26,
   "metadata": {},
   "outputs": [
    {
     "data": {
      "text/html": [
       "<div>\n",
       "<style scoped>\n",
       "    .dataframe tbody tr th:only-of-type {\n",
       "        vertical-align: middle;\n",
       "    }\n",
       "\n",
       "    .dataframe tbody tr th {\n",
       "        vertical-align: top;\n",
       "    }\n",
       "\n",
       "    .dataframe thead th {\n",
       "        text-align: right;\n",
       "    }\n",
       "</style>\n",
       "<table border=\"1\" class=\"dataframe\">\n",
       "  <thead>\n",
       "    <tr style=\"text-align: right;\">\n",
       "      <th></th>\n",
       "      <th>datetime</th>\n",
       "      <th>timediff(ms)</th>\n",
       "      <th>Ia(A)</th>\n",
       "      <th>Ib(A)</th>\n",
       "      <th>Ic(A)</th>\n",
       "      <th>In(A)</th>\n",
       "      <th>Iavg(A)</th>\n",
       "      <th>Va(V)</th>\n",
       "      <th>Vb(V)</th>\n",
       "      <th>Vc(V)</th>\n",
       "      <th>...</th>\n",
       "      <th>VAc(V)</th>\n",
       "      <th>VAtot(V)</th>\n",
       "      <th>PFa</th>\n",
       "      <th>PFb</th>\n",
       "      <th>PFc</th>\n",
       "      <th>PFtot</th>\n",
       "      <th>DFa</th>\n",
       "      <th>DFb</th>\n",
       "      <th>DFc</th>\n",
       "      <th>DFtot</th>\n",
       "    </tr>\n",
       "  </thead>\n",
       "  <tbody>\n",
       "    <tr>\n",
       "      <th>0</th>\n",
       "      <td>2023-03-10 00:00:00.000</td>\n",
       "      <td>0.0</td>\n",
       "      <td>10.71</td>\n",
       "      <td>11.96</td>\n",
       "      <td>8.00</td>\n",
       "      <td>NaN</td>\n",
       "      <td>NaN</td>\n",
       "      <td>NaN</td>\n",
       "      <td>NaN</td>\n",
       "      <td>NaN</td>\n",
       "      <td>...</td>\n",
       "      <td>0</td>\n",
       "      <td>0</td>\n",
       "      <td>NaN</td>\n",
       "      <td>NaN</td>\n",
       "      <td>NaN</td>\n",
       "      <td>NaN</td>\n",
       "      <td>NaN</td>\n",
       "      <td>NaN</td>\n",
       "      <td>NaN</td>\n",
       "      <td>NaN</td>\n",
       "    </tr>\n",
       "    <tr>\n",
       "      <th>1</th>\n",
       "      <td>2023-03-10 00:00:00.620</td>\n",
       "      <td>620.0</td>\n",
       "      <td>10.71</td>\n",
       "      <td>11.97</td>\n",
       "      <td>8.00</td>\n",
       "      <td>NaN</td>\n",
       "      <td>NaN</td>\n",
       "      <td>NaN</td>\n",
       "      <td>NaN</td>\n",
       "      <td>NaN</td>\n",
       "      <td>...</td>\n",
       "      <td>0</td>\n",
       "      <td>0</td>\n",
       "      <td>NaN</td>\n",
       "      <td>NaN</td>\n",
       "      <td>NaN</td>\n",
       "      <td>NaN</td>\n",
       "      <td>NaN</td>\n",
       "      <td>NaN</td>\n",
       "      <td>NaN</td>\n",
       "      <td>NaN</td>\n",
       "    </tr>\n",
       "    <tr>\n",
       "      <th>2</th>\n",
       "      <td>2023-03-10 00:00:01.250</td>\n",
       "      <td>1250.0</td>\n",
       "      <td>10.71</td>\n",
       "      <td>11.97</td>\n",
       "      <td>8.00</td>\n",
       "      <td>NaN</td>\n",
       "      <td>NaN</td>\n",
       "      <td>NaN</td>\n",
       "      <td>NaN</td>\n",
       "      <td>NaN</td>\n",
       "      <td>...</td>\n",
       "      <td>0</td>\n",
       "      <td>0</td>\n",
       "      <td>NaN</td>\n",
       "      <td>NaN</td>\n",
       "      <td>NaN</td>\n",
       "      <td>NaN</td>\n",
       "      <td>NaN</td>\n",
       "      <td>NaN</td>\n",
       "      <td>NaN</td>\n",
       "      <td>NaN</td>\n",
       "    </tr>\n",
       "    <tr>\n",
       "      <th>3</th>\n",
       "      <td>2023-03-10 00:00:01.870</td>\n",
       "      <td>1870.0</td>\n",
       "      <td>10.72</td>\n",
       "      <td>11.98</td>\n",
       "      <td>8.01</td>\n",
       "      <td>NaN</td>\n",
       "      <td>NaN</td>\n",
       "      <td>NaN</td>\n",
       "      <td>NaN</td>\n",
       "      <td>NaN</td>\n",
       "      <td>...</td>\n",
       "      <td>0</td>\n",
       "      <td>0</td>\n",
       "      <td>NaN</td>\n",
       "      <td>NaN</td>\n",
       "      <td>NaN</td>\n",
       "      <td>NaN</td>\n",
       "      <td>NaN</td>\n",
       "      <td>NaN</td>\n",
       "      <td>NaN</td>\n",
       "      <td>NaN</td>\n",
       "    </tr>\n",
       "    <tr>\n",
       "      <th>4</th>\n",
       "      <td>2023-03-10 00:00:02.500</td>\n",
       "      <td>2500.0</td>\n",
       "      <td>10.72</td>\n",
       "      <td>11.98</td>\n",
       "      <td>8.01</td>\n",
       "      <td>NaN</td>\n",
       "      <td>NaN</td>\n",
       "      <td>NaN</td>\n",
       "      <td>NaN</td>\n",
       "      <td>NaN</td>\n",
       "      <td>...</td>\n",
       "      <td>0</td>\n",
       "      <td>0</td>\n",
       "      <td>NaN</td>\n",
       "      <td>NaN</td>\n",
       "      <td>NaN</td>\n",
       "      <td>NaN</td>\n",
       "      <td>NaN</td>\n",
       "      <td>NaN</td>\n",
       "      <td>NaN</td>\n",
       "      <td>NaN</td>\n",
       "    </tr>\n",
       "    <tr>\n",
       "      <th>...</th>\n",
       "      <td>...</td>\n",
       "      <td>...</td>\n",
       "      <td>...</td>\n",
       "      <td>...</td>\n",
       "      <td>...</td>\n",
       "      <td>...</td>\n",
       "      <td>...</td>\n",
       "      <td>...</td>\n",
       "      <td>...</td>\n",
       "      <td>...</td>\n",
       "      <td>...</td>\n",
       "      <td>...</td>\n",
       "      <td>...</td>\n",
       "      <td>...</td>\n",
       "      <td>...</td>\n",
       "      <td>...</td>\n",
       "      <td>...</td>\n",
       "      <td>...</td>\n",
       "      <td>...</td>\n",
       "      <td>...</td>\n",
       "      <td>...</td>\n",
       "    </tr>\n",
       "    <tr>\n",
       "      <th>129555</th>\n",
       "      <td>2023-03-10 23:59:52.750</td>\n",
       "      <td>86392750.0</td>\n",
       "      <td>0.33</td>\n",
       "      <td>1.78</td>\n",
       "      <td>0.97</td>\n",
       "      <td>NaN</td>\n",
       "      <td>NaN</td>\n",
       "      <td>NaN</td>\n",
       "      <td>NaN</td>\n",
       "      <td>NaN</td>\n",
       "      <td>...</td>\n",
       "      <td>0</td>\n",
       "      <td>0</td>\n",
       "      <td>NaN</td>\n",
       "      <td>NaN</td>\n",
       "      <td>NaN</td>\n",
       "      <td>NaN</td>\n",
       "      <td>NaN</td>\n",
       "      <td>NaN</td>\n",
       "      <td>NaN</td>\n",
       "      <td>NaN</td>\n",
       "    </tr>\n",
       "    <tr>\n",
       "      <th>129556</th>\n",
       "      <td>2023-03-10 23:59:53.500</td>\n",
       "      <td>86393500.0</td>\n",
       "      <td>0.33</td>\n",
       "      <td>1.78</td>\n",
       "      <td>0.97</td>\n",
       "      <td>NaN</td>\n",
       "      <td>NaN</td>\n",
       "      <td>NaN</td>\n",
       "      <td>NaN</td>\n",
       "      <td>NaN</td>\n",
       "      <td>...</td>\n",
       "      <td>0</td>\n",
       "      <td>0</td>\n",
       "      <td>NaN</td>\n",
       "      <td>NaN</td>\n",
       "      <td>NaN</td>\n",
       "      <td>NaN</td>\n",
       "      <td>NaN</td>\n",
       "      <td>NaN</td>\n",
       "      <td>NaN</td>\n",
       "      <td>NaN</td>\n",
       "    </tr>\n",
       "    <tr>\n",
       "      <th>129557</th>\n",
       "      <td>2023-03-10 23:59:54.120</td>\n",
       "      <td>86394120.0</td>\n",
       "      <td>0.33</td>\n",
       "      <td>1.78</td>\n",
       "      <td>0.97</td>\n",
       "      <td>NaN</td>\n",
       "      <td>NaN</td>\n",
       "      <td>NaN</td>\n",
       "      <td>NaN</td>\n",
       "      <td>NaN</td>\n",
       "      <td>...</td>\n",
       "      <td>0</td>\n",
       "      <td>0</td>\n",
       "      <td>NaN</td>\n",
       "      <td>NaN</td>\n",
       "      <td>NaN</td>\n",
       "      <td>NaN</td>\n",
       "      <td>NaN</td>\n",
       "      <td>NaN</td>\n",
       "      <td>NaN</td>\n",
       "      <td>NaN</td>\n",
       "    </tr>\n",
       "    <tr>\n",
       "      <th>129558</th>\n",
       "      <td>2023-03-10 23:59:54.750</td>\n",
       "      <td>86394750.0</td>\n",
       "      <td>0.33</td>\n",
       "      <td>1.78</td>\n",
       "      <td>0.97</td>\n",
       "      <td>NaN</td>\n",
       "      <td>NaN</td>\n",
       "      <td>NaN</td>\n",
       "      <td>NaN</td>\n",
       "      <td>NaN</td>\n",
       "      <td>...</td>\n",
       "      <td>0</td>\n",
       "      <td>0</td>\n",
       "      <td>NaN</td>\n",
       "      <td>NaN</td>\n",
       "      <td>NaN</td>\n",
       "      <td>NaN</td>\n",
       "      <td>NaN</td>\n",
       "      <td>NaN</td>\n",
       "      <td>NaN</td>\n",
       "      <td>NaN</td>\n",
       "    </tr>\n",
       "    <tr>\n",
       "      <th>129559</th>\n",
       "      <td>2023-03-10 23:59:55.370</td>\n",
       "      <td>86395370.0</td>\n",
       "      <td>0.33</td>\n",
       "      <td>1.78</td>\n",
       "      <td>0.97</td>\n",
       "      <td>NaN</td>\n",
       "      <td>NaN</td>\n",
       "      <td>NaN</td>\n",
       "      <td>NaN</td>\n",
       "      <td>NaN</td>\n",
       "      <td>...</td>\n",
       "      <td>0</td>\n",
       "      <td>0</td>\n",
       "      <td>NaN</td>\n",
       "      <td>NaN</td>\n",
       "      <td>NaN</td>\n",
       "      <td>NaN</td>\n",
       "      <td>NaN</td>\n",
       "      <td>NaN</td>\n",
       "      <td>NaN</td>\n",
       "      <td>NaN</td>\n",
       "    </tr>\n",
       "  </tbody>\n",
       "</table>\n",
       "<p>129560 rows × 31 columns</p>\n",
       "</div>"
      ],
      "text/plain": [
       "                      datetime  timediff(ms)  Ia(A)  Ib(A)  Ic(A) In(A)  \\\n",
       "0      2023-03-10 00:00:00.000           0.0  10.71  11.96   8.00   NaN   \n",
       "1      2023-03-10 00:00:00.620         620.0  10.71  11.97   8.00   NaN   \n",
       "2      2023-03-10 00:00:01.250        1250.0  10.71  11.97   8.00   NaN   \n",
       "3      2023-03-10 00:00:01.870        1870.0  10.72  11.98   8.01   NaN   \n",
       "4      2023-03-10 00:00:02.500        2500.0  10.72  11.98   8.01   NaN   \n",
       "...                        ...           ...    ...    ...    ...   ...   \n",
       "129555 2023-03-10 23:59:52.750    86392750.0   0.33   1.78   0.97   NaN   \n",
       "129556 2023-03-10 23:59:53.500    86393500.0   0.33   1.78   0.97   NaN   \n",
       "129557 2023-03-10 23:59:54.120    86394120.0   0.33   1.78   0.97   NaN   \n",
       "129558 2023-03-10 23:59:54.750    86394750.0   0.33   1.78   0.97   NaN   \n",
       "129559 2023-03-10 23:59:55.370    86395370.0   0.33   1.78   0.97   NaN   \n",
       "\n",
       "       Iavg(A) Va(V) Vb(V) Vc(V)  ... VAc(V)  VAtot(V)  PFa  PFb  PFc PFtot  \\\n",
       "0          NaN   NaN   NaN   NaN  ...      0         0  NaN  NaN  NaN   NaN   \n",
       "1          NaN   NaN   NaN   NaN  ...      0         0  NaN  NaN  NaN   NaN   \n",
       "2          NaN   NaN   NaN   NaN  ...      0         0  NaN  NaN  NaN   NaN   \n",
       "3          NaN   NaN   NaN   NaN  ...      0         0  NaN  NaN  NaN   NaN   \n",
       "4          NaN   NaN   NaN   NaN  ...      0         0  NaN  NaN  NaN   NaN   \n",
       "...        ...   ...   ...   ...  ...    ...       ...  ...  ...  ...   ...   \n",
       "129555     NaN   NaN   NaN   NaN  ...      0         0  NaN  NaN  NaN   NaN   \n",
       "129556     NaN   NaN   NaN   NaN  ...      0         0  NaN  NaN  NaN   NaN   \n",
       "129557     NaN   NaN   NaN   NaN  ...      0         0  NaN  NaN  NaN   NaN   \n",
       "129558     NaN   NaN   NaN   NaN  ...      0         0  NaN  NaN  NaN   NaN   \n",
       "129559     NaN   NaN   NaN   NaN  ...      0         0  NaN  NaN  NaN   NaN   \n",
       "\n",
       "        DFa  DFb  DFc  DFtot  \n",
       "0       NaN  NaN  NaN    NaN  \n",
       "1       NaN  NaN  NaN    NaN  \n",
       "2       NaN  NaN  NaN    NaN  \n",
       "3       NaN  NaN  NaN    NaN  \n",
       "4       NaN  NaN  NaN    NaN  \n",
       "...     ...  ...  ...    ...  \n",
       "129555  NaN  NaN  NaN    NaN  \n",
       "129556  NaN  NaN  NaN    NaN  \n",
       "129557  NaN  NaN  NaN    NaN  \n",
       "129558  NaN  NaN  NaN    NaN  \n",
       "129559  NaN  NaN  NaN    NaN  \n",
       "\n",
       "[129560 rows x 31 columns]"
      ]
     },
     "execution_count": 26,
     "metadata": {},
     "output_type": "execute_result"
    }
   ],
   "source": [
    "df1"
   ]
  },
  {
   "cell_type": "code",
   "execution_count": 20,
   "metadata": {},
   "outputs": [
    {
     "data": {
      "text/plain": [
       "'20230310'"
      ]
     },
     "execution_count": 20,
     "metadata": {},
     "output_type": "execute_result"
    }
   ],
   "source": [
    "date"
   ]
  },
  {
   "cell_type": "code",
   "execution_count": 21,
   "metadata": {},
   "outputs": [
    {
     "data": {
      "text/plain": [
       "datetime.datetime(2023, 3, 10, 0, 0, 0, 100000)"
      ]
     },
     "execution_count": 21,
     "metadata": {},
     "output_type": "execute_result"
    }
   ],
   "source": [
    "start_date = datetime.datetime(int(date[:4]),int(date[4:6]),int(date[6:8])) + datetime.timedelta(milliseconds = 100)\n",
    "start_date"
   ]
  },
  {
   "cell_type": "code",
   "execution_count": null,
   "metadata": {},
   "outputs": [],
   "source": [
    "time(s), Ia, Ib, Ic, Pa, Pb, Pc, Ptot, VAa, VAb, VAc, VAtot"
   ]
  },
  {
   "cell_type": "code",
   "execution_count": 30,
   "metadata": {},
   "outputs": [
    {
     "data": {
      "text/plain": [
       "['time(s)',\n",
       " 'Ia',\n",
       " 'Ib',\n",
       " 'Ic',\n",
       " 'In',\n",
       " 'Iavg',\n",
       " 'Va',\n",
       " 'Vb',\n",
       " 'Vc',\n",
       " 'Vavg',\n",
       " 'Pa',\n",
       " 'Pb',\n",
       " 'Pc',\n",
       " 'Ptot',\n",
       " 'VARa',\n",
       " 'VARb',\n",
       " 'VARc',\n",
       " 'VARtot',\n",
       " 'VAa',\n",
       " 'VAb',\n",
       " 'VAc',\n",
       " 'VAtot',\n",
       " 'PFa',\n",
       " 'PFb',\n",
       " 'PFc',\n",
       " 'PFtot',\n",
       " 'DFa',\n",
       " 'DFb',\n",
       " 'DFc',\n",
       " 'DFtot']"
      ]
     },
     "execution_count": 30,
     "metadata": {},
     "output_type": "execute_result"
    }
   ],
   "source": [
    "a = input().split(', ')\n",
    "b = [e for e in a]\n",
    "b\n"
   ]
  }
 ],
 "metadata": {
  "kernelspec": {
   "display_name": "Python 3",
   "language": "python",
   "name": "python3"
  },
  "language_info": {
   "codemirror_mode": {
    "name": "ipython",
    "version": 3
   },
   "file_extension": ".py",
   "mimetype": "text/x-python",
   "name": "python",
   "nbconvert_exporter": "python",
   "pygments_lexer": "ipython3",
   "version": "3.9.0"
  },
  "orig_nbformat": 4
 },
 "nbformat": 4,
 "nbformat_minor": 2
}
